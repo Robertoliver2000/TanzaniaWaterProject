{
 "cells": [
  {
   "cell_type": "code",
   "execution_count": 470,
   "metadata": {},
   "outputs": [],
   "source": [
    "import pandas as pd\n",
    "import numpy as np\n",
    "import seaborn as sns\n",
    "import matplotlib.pyplot as plt\n",
    "%matplotlib inline\n",
    "from matplotlib import rcParams\n",
    "\n",
    "from sklearn.compose import make_column_transformer\n",
    "from sklearn.compose import make_column_selector\n",
    "\n",
    "from sklearn.linear_model import LogisticRegression, LinearRegression\n",
    "from sklearn.neighbors import KNeighborsClassifier, KNeighborsRegressor\n",
    "from sklearn.tree import DecisionTreeClassifier, DecisionTreeRegressor\n",
    "from sklearn.ensemble import BaggingClassifier, RandomForestClassifier, ExtraTreesClassifier, VotingClassifier\n",
    "from xgboost import XGBClassifier\n",
    "\n",
    "from sklearn.inspection import permutation_importance\n",
    "\n",
    "from sklearn.metrics import recall_score, accuracy_score, f1_score, confusion_matrix, classification_report\n",
    "from sklearn.model_selection import train_test_split, GridSearchCV,\\\n",
    "cross_val_score\n",
    "from sklearn.preprocessing import OneHotEncoder, StandardScaler\n",
    "from sklearn.pipeline import Pipeline\n",
    "from sklearn.compose import ColumnTransformer\n",
    "from sklearn.ensemble import StackingRegressor\n",
    "from sklearn.impute import SimpleImputer\n",
    "\n",
    "from mpl_toolkits import mplot3d"
   ]
  },
  {
   "cell_type": "code",
   "execution_count": 471,
   "metadata": {},
   "outputs": [],
   "source": [
    "pd.set_option('display.max_columns', None)\n",
    "X = pd.read_csv('../../../data/trainingsetvalues.csv')\n",
    "y_full = pd.read_csv('../../../data/trainingsetlabels.csv')"
   ]
  },
  {
   "cell_type": "code",
   "execution_count": 472,
   "metadata": {},
   "outputs": [],
   "source": [
    "X.funder = X.funder.replace(np.nan, 'Unknown')\n",
    "X.installer = X.installer.replace(np.nan, 'Unknown')\n",
    "X.permit = X.permit.replace(np.nan, False)"
   ]
  },
  {
   "cell_type": "code",
   "execution_count": 473,
   "metadata": {},
   "outputs": [],
   "source": [
    "y_full = y_full.drop(columns = 'id')"
   ]
  },
  {
   "cell_type": "code",
   "execution_count": 474,
   "metadata": {},
   "outputs": [],
   "source": [
    "y_full.status_group.loc[y_full.status_group == 'functional'] = 1\n",
    "y_full.status_group.loc[y_full.status_group != 1] = 0\n",
    "y_full = y_full.astype(int)"
   ]
  },
  {
   "cell_type": "code",
   "execution_count": 475,
   "metadata": {},
   "outputs": [],
   "source": [
    "droplist = ['wpt_name', 'subvillage', 'num_private', 'scheme_name', 'recorded_by', 'scheme_management', 'management', 'extraction_type', \n",
    "            'payment', 'extraction_type_class', 'quality_group', 'quantity_group', 'source', 'source_class', 'waterpoint_type_group', 'ward',\n",
    "           'region_code', 'district_code', 'public_meeting', 'funder', 'lga', 'management_group']\n",
    "\n",
    "X_clean_full = X.drop(columns = droplist, axis=1)"
   ]
  },
  {
   "cell_type": "markdown",
   "metadata": {},
   "source": [
    "# Filled in Zero's for the gps_height column"
   ]
  },
  {
   "cell_type": "code",
   "execution_count": 476,
   "metadata": {},
   "outputs": [],
   "source": [
    "dodoma_idx = X_clean_full[X_clean_full.region == 'Dodoma'].index\n",
    "X_clean_full.at[dodoma_idx, 'gps_height'] = 1350"
   ]
  },
  {
   "cell_type": "code",
   "execution_count": 477,
   "metadata": {},
   "outputs": [],
   "source": [
    "kagera_idx = X_clean_full[X_clean_full.region == 'Kagera'].index\n",
    "X_clean_full.at[kagera_idx, 'gps_height'] = 1450"
   ]
  },
  {
   "cell_type": "code",
   "execution_count": 478,
   "metadata": {},
   "outputs": [],
   "source": [
    "mbeya_idx = X_clean_full[X_clean_full.region == 'Mbeya'].index\n",
    "X_clean_full.at[mbeya_idx, 'gps_height'] = 1715"
   ]
  },
  {
   "cell_type": "code",
   "execution_count": 479,
   "metadata": {},
   "outputs": [],
   "source": [
    "tabora_idx = X_clean_full[X_clean_full.region == 'Tabora'].index\n",
    "X_clean_full.at[tabora_idx, 'gps_height'] = 1200"
   ]
  },
  {
   "cell_type": "code",
   "execution_count": 480,
   "metadata": {},
   "outputs": [],
   "source": [
    "shinyanga_idx = X_clean_full[X_clean_full.region == 'Shinyanga'].index\n",
    "X_clean_full.at[shinyanga_idx, 'gps_height'] = 1162"
   ]
  },
  {
   "cell_type": "code",
   "execution_count": 481,
   "metadata": {},
   "outputs": [],
   "source": [
    "mwanza_idx = X_clean_full[X_clean_full.region == 'Mwanza'].index\n",
    "X_clean_full.at[mwanza_idx, 'gps_height'] = 1200"
   ]
  },
  {
   "cell_type": "markdown",
   "metadata": {},
   "source": [
    "# Created a new age column"
   ]
  },
  {
   "cell_type": "code",
   "execution_count": 482,
   "metadata": {},
   "outputs": [],
   "source": [
    "years = [int(X_clean_full['date_recorded'][x][:4]) for x in range(len(X_clean_full['date_recorded']))]\n",
    "X_clean_full['date_recorded'] = years"
   ]
  },
  {
   "cell_type": "code",
   "execution_count": 483,
   "metadata": {},
   "outputs": [],
   "source": [
    "X_clean_full.construction_year = X_clean_full.construction_year.replace(0, 2000)"
   ]
  },
  {
   "cell_type": "code",
   "execution_count": 484,
   "metadata": {},
   "outputs": [],
   "source": [
    "X_clean_full['age'] = X_clean_full['date_recorded'] - X_clean_full['construction_year']"
   ]
  },
  {
   "cell_type": "markdown",
   "metadata": {},
   "source": [
    "# Cleaned up the Installer Column"
   ]
  },
  {
   "cell_type": "code",
   "execution_count": 485,
   "metadata": {},
   "outputs": [
    {
     "data": {
      "text/plain": [
       "['DWE', 'Unknown', 'Government', 'RWE', 'Commu', 'DANIDA', 'KKKT']"
      ]
     },
     "execution_count": 485,
     "metadata": {},
     "output_type": "execute_result"
    }
   ],
   "source": [
    "top_installers = list(X_clean_full.installer.value_counts()[:7].index)\n",
    "top_installers"
   ]
  },
  {
   "cell_type": "code",
   "execution_count": 486,
   "metadata": {},
   "outputs": [],
   "source": [
    "X_clean_full.installer.loc[~X_clean_full['installer'].isin(top_installers)] = 'Other'"
   ]
  },
  {
   "cell_type": "markdown",
   "metadata": {},
   "source": [
    "# TT Split"
   ]
  },
  {
   "cell_type": "code",
   "execution_count": 487,
   "metadata": {},
   "outputs": [],
   "source": [
    "X_clean, X_test, y, y_test = train_test_split(X_clean_full, y_full, random_state=1)"
   ]
  },
  {
   "cell_type": "markdown",
   "metadata": {},
   "source": [
    "# Made a function for returning catagorical and numerical columns"
   ]
  },
  {
   "cell_type": "code",
   "execution_count": 488,
   "metadata": {},
   "outputs": [],
   "source": [
    "def cleaning(data):\n",
    "    cat_cols = list(data.select_dtypes('object'))\n",
    "    numeric_cols = list(data.select_dtypes('number'))\n",
    "    cat_df = pd.DataFrame(data[cat_cols])\n",
    "    numeric_df = pd.DataFrame(data[numeric_cols])\n",
    "    return cat_df, numeric_df"
   ]
  },
  {
   "cell_type": "markdown",
   "metadata": {},
   "source": [
    "# Split into categorical and numerical"
   ]
  },
  {
   "cell_type": "code",
   "execution_count": 489,
   "metadata": {},
   "outputs": [],
   "source": [
    "X_cats, X_nums = cleaning(X_clean)\n",
    "X_cats_test, X_nums_test = cleaning(X_test)\n",
    "X_nums.drop(columns = ['longitude', 'latitude', 'id'], inplace=True)\n",
    "X_nums_test.drop(columns = ['longitude', 'latitude', 'id'], inplace=True)"
   ]
  },
  {
   "cell_type": "markdown",
   "metadata": {},
   "source": [
    "# One hot encoder and scaler"
   ]
  },
  {
   "cell_type": "code",
   "execution_count": 491,
   "metadata": {},
   "outputs": [],
   "source": [
    "ohe = OneHotEncoder(sparse=False)\n",
    "ohe.fit(X_cats)\n",
    "X_cats_ohe = pd.DataFrame(ohe.transform(X_cats), columns = ohe.get_feature_names(input_features = X_cats.columns))\n",
    "X_cats_ohe_test = pd.DataFrame(ohe.transform(X_cats_test), columns = ohe.get_feature_names(input_features = X_cats_test.columns))"
   ]
  },
  {
   "cell_type": "code",
   "execution_count": 492,
   "metadata": {},
   "outputs": [],
   "source": [
    "ss = StandardScaler()\n",
    "ss.fit(X_nums)\n",
    "X_nums_scaled = pd.DataFrame(ss.transform(X_nums), columns = X_nums.columns)\n",
    "X_nums_scaled_test = pd.DataFrame(ss.transform(X_nums_test), columns = X_nums_test.columns)"
   ]
  },
  {
   "cell_type": "code",
   "execution_count": 493,
   "metadata": {},
   "outputs": [],
   "source": [
    "X_data = pd.concat((X_nums_scaled, X_cats_ohe), axis=1)\n",
    "X_data_test = pd.concat((X_nums_scaled_test, X_cats_ohe_test), axis=1)"
   ]
  },
  {
   "cell_type": "markdown",
   "metadata": {},
   "source": [
    "# Our class for testing data features on our model"
   ]
  },
  {
   "cell_type": "code",
   "execution_count": 496,
   "metadata": {},
   "outputs": [],
   "source": [
    "class Model:\n",
    "    \n",
    "    def __init__(self, model, y):\n",
    "        self.model = model\n",
    "        self.y = np.array(y).ravel()\n",
    "        self.columns = ['f1 score', 'accuracy_score', 'Notes']\n",
    "        self.df = pd.DataFrame(columns = self.columns)\n",
    "        \n",
    "    def model_history(self, X, notes, y_new=pd.DataFrame()):\n",
    "        if y_new.empty==True:\n",
    "            y_new = self.y\n",
    "        \n",
    "        f1_score_ = cross_val_score(self.model, X, cv=3, scoring = 'f1', y=y_new)\n",
    "        accuracy_score_ = cross_val_score(self.model, X, cv=3, scoring='accuracy', y=y_new)\n",
    "        frame = pd.DataFrame([[f1_score_.mean(), accuracy_score_.mean(), notes]], columns=self.columns)\n",
    "        self.df = self.df.append(frame).reset_index(drop=True)\n",
    "#       self.df = self.df.sort_values('f1 score', ascending=False)\n",
    "        return self.df\n",
    "\n",
    "    def error_vis(self, X, y_new=pd.DataFrame()):\n",
    "        if y_new.empty==True:\n",
    "            y_new = self.y\n",
    "        self.model.fit(X, y_new)\n",
    "        sns.set(rc = {'figure.figsize':(10,6)})\n",
    "        sns.distplot((np.array(y_new).ravel() - self.model.predict_proba(X)[:,1]),\n",
    "            color='blue', bins=25, kde_kws = {'color':'red'})"
   ]
  },
  {
   "cell_type": "markdown",
   "metadata": {},
   "source": [
    "### Function for removing one hot encoded catagories from a DataFrame"
   ]
  },
  {
   "cell_type": "code",
   "execution_count": 497,
   "metadata": {},
   "outputs": [],
   "source": [
    "def remove_column(col):\n",
    "    remove_list = []\n",
    "    for x in X_data.columns:\n",
    "        if col in x:\n",
    "            remove_list.append(x)\n",
    "    X_data_new = X_data.drop(columns = remove_list)\n",
    "    return X_data_new"
   ]
  },
  {
   "cell_type": "markdown",
   "metadata": {},
   "source": [
    "# Our Model"
   ]
  },
  {
   "cell_type": "code",
   "execution_count": 498,
   "metadata": {},
   "outputs": [],
   "source": [
    "rf_2 = RandomForestClassifier(max_depth = 18, min_samples_split = 15, n_estimators = 50, random_state = 1)"
   ]
  },
  {
   "cell_type": "markdown",
   "metadata": {},
   "source": [
    "## Base Model with no engineering"
   ]
  },
  {
   "cell_type": "code",
   "execution_count": 499,
   "metadata": {},
   "outputs": [],
   "source": [
    "tester = Model(rf_2, y)"
   ]
  },
  {
   "cell_type": "code",
   "execution_count": 500,
   "metadata": {},
   "outputs": [
    {
     "data": {
      "text/html": [
       "<div>\n",
       "<style scoped>\n",
       "    .dataframe tbody tr th:only-of-type {\n",
       "        vertical-align: middle;\n",
       "    }\n",
       "\n",
       "    .dataframe tbody tr th {\n",
       "        vertical-align: top;\n",
       "    }\n",
       "\n",
       "    .dataframe thead th {\n",
       "        text-align: right;\n",
       "    }\n",
       "</style>\n",
       "<table border=\"1\" class=\"dataframe\">\n",
       "  <thead>\n",
       "    <tr style=\"text-align: right;\">\n",
       "      <th></th>\n",
       "      <th>f1 score</th>\n",
       "      <th>accuracy_score</th>\n",
       "      <th>Notes</th>\n",
       "    </tr>\n",
       "  </thead>\n",
       "  <tbody>\n",
       "    <tr>\n",
       "      <th>0</th>\n",
       "      <td>0.82704</td>\n",
       "      <td>0.797262</td>\n",
       "      <td>Base model with standard feature engineering</td>\n",
       "    </tr>\n",
       "  </tbody>\n",
       "</table>\n",
       "</div>"
      ],
      "text/plain": [
       "   f1 score  accuracy_score                                         Notes\n",
       "0   0.82704        0.797262  Base model with standard feature engineering"
      ]
     },
     "execution_count": 500,
     "metadata": {},
     "output_type": "execute_result"
    }
   ],
   "source": [
    "tester.model_history(X_data, notes= 'Base model with standard feature engineering')"
   ]
  },
  {
   "cell_type": "markdown",
   "metadata": {},
   "source": [
    "## Testing the model with only data it guessed correctly"
   ]
  },
  {
   "cell_type": "markdown",
   "metadata": {},
   "source": [
    "### (This was a total failure)"
   ]
  },
  {
   "cell_type": "code",
   "execution_count": 501,
   "metadata": {},
   "outputs": [],
   "source": [
    "# def modeling_function(model, X_train, y_train, X_val, y_val):\n",
    "\n",
    "#     # fit model on training data\n",
    "#     y_train = np.array(y_train).ravel()\n",
    "#     y_val = np.array(y_val).ravel()\n",
    "\n",
    "#     model.fit(X_train, y_train)\n",
    "\n",
    "#     # make predictions on training and validation data\n",
    "#     train_preds = model.predict(X_train)\n",
    "#     val_preds = model.predict(X_val)\n",
    "\n",
    "#     # Print accuracy score\n",
    "    \n",
    "#     train_acc = accuracy_score(y_train, train_preds).round(3)\n",
    "#     val_acc = accuracy_score(y_val, val_preds).round(3)\n",
    "#     train_f1 = f1_score(y_train, train_preds).round(3)\n",
    "#     val_f1 = f1_score(y_val, val_preds).round(3)\n",
    "    \n",
    "#     print('----------------------------------------------------')\n",
    "#     print('Accuracy Score:')\n",
    "#     print('Training score: ', accuracy_score(y_train, train_preds).round(3))\n",
    "#     print('Validation score: ', accuracy_score(y_val, val_preds).round(3))\n",
    "#     print('----------------------------------------------------')\n",
    "    \n",
    "#     print('----------------------------------------------------')\n",
    "#     print('f1 Score:')\n",
    "#     print('Training score: ', f1_score(y_train, train_preds).round(3))\n",
    "#     print('Validation score: ', f1_score(y_val, val_preds).round(3))\n",
    "#     print('----------------------------------------------------')"
   ]
  },
  {
   "cell_type": "code",
   "execution_count": 502,
   "metadata": {},
   "outputs": [],
   "source": [
    "# X_train_err, X_test_err, y_train_err, y_test_err = train_test_split(X_data, y, random_state=1)"
   ]
  },
  {
   "cell_type": "code",
   "execution_count": 503,
   "metadata": {},
   "outputs": [],
   "source": [
    "# error_df = pd.DataFrame()\n",
    "# error_df = pd.concat((pd.DataFrame(np.array(y_train).ravel()), pd.DataFrame(rf_err.predict_proba(X_train))), axis=1)\n",
    "# error_df.set_index(X_train_err.index, inplace=True)\n",
    "# error_df['prediction'] = rf_err.predict(X_train_err)\n",
    "# error_df.columns = ['True Value', 'P: Broke', 'P: Works', 'Prediction']\n",
    "\n",
    "# error_df['Correct?'] = (error_df['Prediction'] == error_df['True Value'])\n",
    "# error_df['Percent Wrong'] = np.array(y_train).ravel() - rf_err.predict_proba(X_train_err)[:,1]\n",
    "# error_df['Percent Wrong'] = error_df['Percent Wrong'].map(abs)*100\n",
    "\n",
    "# correct_error_df = error_df.loc[(error_df['Percent Wrong'] < 50)]\n",
    "# incorrect_error_df = error_df.loc[(error_df['Percent Wrong'] >= 50)]\n",
    "\n",
    "# correct_indexes = correct_error_df.index\n",
    "# incorrect_indexes = incorrect_error_df.index\n",
    "\n",
    "# correct_X = X_train_err.drop(index=incorrect_indexes)\n",
    "# correct_y = y_train.drop(index=incorrect_indexes)\n",
    "\n",
    "# incorrect_X = X_train_err.drop(index=correct_indexes)\n",
    "# incorrect_y = y_train.drop(index=correct_indexes)\n"
   ]
  },
  {
   "cell_type": "code",
   "execution_count": 504,
   "metadata": {},
   "outputs": [],
   "source": [
    "# poop = RandomForestClassifier(max_depth = 16, min_samples_split = 2, n_estimators = 100, random_state = 1)"
   ]
  },
  {
   "cell_type": "code",
   "execution_count": 116,
   "metadata": {},
   "outputs": [
    {
     "name": "stdout",
     "output_type": "stream",
     "text": [
      "----------------------------------------------------\n",
      "Accuracy Score:\n",
      "Training score:  0.984\n",
      "Validation score:  0.807\n",
      "----------------------------------------------------\n",
      "----------------------------------------------------\n",
      "f1 Score:\n",
      "Training score:  0.987\n",
      "Validation score:  0.839\n",
      "----------------------------------------------------\n"
     ]
    },
    {
     "data": {
      "text/plain": [
       "RandomForestClassifier(max_depth=16, random_state=1)"
      ]
     },
     "execution_count": 116,
     "metadata": {},
     "output_type": "execute_result"
    }
   ],
   "source": [
    "# modeling_function(poop, correct_X, correct_y, X_test, y_test)"
   ]
  },
  {
   "cell_type": "code",
   "execution_count": 117,
   "metadata": {},
   "outputs": [
    {
     "name": "stdout",
     "output_type": "stream",
     "text": [
      "----------------------------------------------------\n",
      "Accuracy Score:\n",
      "Training score:  0.984\n",
      "Validation score:  0.016\n",
      "----------------------------------------------------\n",
      "----------------------------------------------------\n",
      "f1 Score:\n",
      "Training score:  0.987\n",
      "Validation score:  0.026\n",
      "----------------------------------------------------\n"
     ]
    },
    {
     "data": {
      "text/plain": [
       "RandomForestClassifier(max_depth=16, random_state=1)"
      ]
     },
     "execution_count": 117,
     "metadata": {},
     "output_type": "execute_result"
    }
   ],
   "source": [
    "# modeling_function(poop, correct_X, correct_y, incorrect_X, incorrect_y)"
   ]
  },
  {
   "cell_type": "markdown",
   "metadata": {},
   "source": [
    "## Dropping Construction Year and Date Recorded"
   ]
  },
  {
   "cell_type": "code",
   "execution_count": 505,
   "metadata": {},
   "outputs": [],
   "source": [
    "X_data_1 = X_data.drop(columns = ['date_recorded', 'construction_year'])"
   ]
  },
  {
   "cell_type": "code",
   "execution_count": 506,
   "metadata": {},
   "outputs": [
    {
     "data": {
      "text/html": [
       "<div>\n",
       "<style scoped>\n",
       "    .dataframe tbody tr th:only-of-type {\n",
       "        vertical-align: middle;\n",
       "    }\n",
       "\n",
       "    .dataframe tbody tr th {\n",
       "        vertical-align: top;\n",
       "    }\n",
       "\n",
       "    .dataframe thead th {\n",
       "        text-align: right;\n",
       "    }\n",
       "</style>\n",
       "<table border=\"1\" class=\"dataframe\">\n",
       "  <thead>\n",
       "    <tr style=\"text-align: right;\">\n",
       "      <th></th>\n",
       "      <th>f1 score</th>\n",
       "      <th>accuracy_score</th>\n",
       "      <th>Notes</th>\n",
       "    </tr>\n",
       "  </thead>\n",
       "  <tbody>\n",
       "    <tr>\n",
       "      <th>0</th>\n",
       "      <td>0.827040</td>\n",
       "      <td>0.797262</td>\n",
       "      <td>Base model with standard feature engineering</td>\n",
       "    </tr>\n",
       "    <tr>\n",
       "      <th>1</th>\n",
       "      <td>0.826764</td>\n",
       "      <td>0.796431</td>\n",
       "      <td>Removed Date Recorded and Construction Year</td>\n",
       "    </tr>\n",
       "  </tbody>\n",
       "</table>\n",
       "</div>"
      ],
      "text/plain": [
       "   f1 score  accuracy_score                                         Notes\n",
       "0  0.827040        0.797262  Base model with standard feature engineering\n",
       "1  0.826764        0.796431   Removed Date Recorded and Construction Year"
      ]
     },
     "execution_count": 506,
     "metadata": {},
     "output_type": "execute_result"
    }
   ],
   "source": [
    "tester.model_history(X_data_1, notes='Removed Date Recorded and Construction Year')"
   ]
  },
  {
   "cell_type": "markdown",
   "metadata": {},
   "source": [
    "## Dropping just Construction Year"
   ]
  },
  {
   "cell_type": "code",
   "execution_count": 507,
   "metadata": {},
   "outputs": [],
   "source": [
    "X_data_2 = X_data.drop(columns = 'construction_year')"
   ]
  },
  {
   "cell_type": "code",
   "execution_count": 508,
   "metadata": {},
   "outputs": [
    {
     "data": {
      "text/html": [
       "<div>\n",
       "<style scoped>\n",
       "    .dataframe tbody tr th:only-of-type {\n",
       "        vertical-align: middle;\n",
       "    }\n",
       "\n",
       "    .dataframe tbody tr th {\n",
       "        vertical-align: top;\n",
       "    }\n",
       "\n",
       "    .dataframe thead th {\n",
       "        text-align: right;\n",
       "    }\n",
       "</style>\n",
       "<table border=\"1\" class=\"dataframe\">\n",
       "  <thead>\n",
       "    <tr style=\"text-align: right;\">\n",
       "      <th></th>\n",
       "      <th>f1 score</th>\n",
       "      <th>accuracy_score</th>\n",
       "      <th>Notes</th>\n",
       "    </tr>\n",
       "  </thead>\n",
       "  <tbody>\n",
       "    <tr>\n",
       "      <th>0</th>\n",
       "      <td>0.827040</td>\n",
       "      <td>0.797262</td>\n",
       "      <td>Base model with standard feature engineering</td>\n",
       "    </tr>\n",
       "    <tr>\n",
       "      <th>1</th>\n",
       "      <td>0.826764</td>\n",
       "      <td>0.796431</td>\n",
       "      <td>Removed Date Recorded and Construction Year</td>\n",
       "    </tr>\n",
       "    <tr>\n",
       "      <th>2</th>\n",
       "      <td>0.826684</td>\n",
       "      <td>0.795578</td>\n",
       "      <td>Removed Construction Year</td>\n",
       "    </tr>\n",
       "  </tbody>\n",
       "</table>\n",
       "</div>"
      ],
      "text/plain": [
       "   f1 score  accuracy_score                                         Notes\n",
       "0  0.827040        0.797262  Base model with standard feature engineering\n",
       "1  0.826764        0.796431   Removed Date Recorded and Construction Year\n",
       "2  0.826684        0.795578                     Removed Construction Year"
      ]
     },
     "execution_count": 508,
     "metadata": {},
     "output_type": "execute_result"
    }
   ],
   "source": [
    "tester.model_history(X_data_2, notes='Removed Construction Year')"
   ]
  },
  {
   "cell_type": "code",
   "execution_count": 509,
   "metadata": {},
   "outputs": [
    {
     "data": {
      "image/png": "[encoded data removed]",
      "text/plain": [
       "<Figure size 720x432 with 1 Axes>"
      ]
     },
     "metadata": {},
     "output_type": "display_data"
    }
   ],
   "source": [
    "tester.error_vis(X_data_2)"
   ]
  },
  {
   "cell_type": "markdown",
   "metadata": {},
   "source": [
    "## Dropping Basin Data"
   ]
  },
  {
   "cell_type": "code",
   "execution_count": 510,
   "metadata": {},
   "outputs": [],
   "source": [
    "X_data_3 = remove_column('basin')"
   ]
  },
  {
   "cell_type": "code",
   "execution_count": 511,
   "metadata": {},
   "outputs": [
    {
     "data": {
      "text/html": [
       "<div>\n",
       "<style scoped>\n",
       "    .dataframe tbody tr th:only-of-type {\n",
       "        vertical-align: middle;\n",
       "    }\n",
       "\n",
       "    .dataframe tbody tr th {\n",
       "        vertical-align: top;\n",
       "    }\n",
       "\n",
       "    .dataframe thead th {\n",
       "        text-align: right;\n",
       "    }\n",
       "</style>\n",
       "<table border=\"1\" class=\"dataframe\">\n",
       "  <thead>\n",
       "    <tr style=\"text-align: right;\">\n",
       "      <th></th>\n",
       "      <th>f1 score</th>\n",
       "      <th>accuracy_score</th>\n",
       "      <th>Notes</th>\n",
       "    </tr>\n",
       "  </thead>\n",
       "  <tbody>\n",
       "    <tr>\n",
       "      <th>0</th>\n",
       "      <td>0.827040</td>\n",
       "      <td>0.797262</td>\n",
       "      <td>Base model with standard feature engineering</td>\n",
       "    </tr>\n",
       "    <tr>\n",
       "      <th>1</th>\n",
       "      <td>0.826764</td>\n",
       "      <td>0.796431</td>\n",
       "      <td>Removed Date Recorded and Construction Year</td>\n",
       "    </tr>\n",
       "    <tr>\n",
       "      <th>2</th>\n",
       "      <td>0.826684</td>\n",
       "      <td>0.795578</td>\n",
       "      <td>Removed Construction Year</td>\n",
       "    </tr>\n",
       "    <tr>\n",
       "      <th>3</th>\n",
       "      <td>0.826273</td>\n",
       "      <td>0.795735</td>\n",
       "      <td>Removed basin column</td>\n",
       "    </tr>\n",
       "  </tbody>\n",
       "</table>\n",
       "</div>"
      ],
      "text/plain": [
       "   f1 score  accuracy_score                                         Notes\n",
       "0  0.827040        0.797262  Base model with standard feature engineering\n",
       "1  0.826764        0.796431   Removed Date Recorded and Construction Year\n",
       "2  0.826684        0.795578                     Removed Construction Year\n",
       "3  0.826273        0.795735                          Removed basin column"
      ]
     },
     "execution_count": 511,
     "metadata": {},
     "output_type": "execute_result"
    }
   ],
   "source": [
    "tester.model_history(X_data_3, notes='Removed basin column')"
   ]
  },
  {
   "cell_type": "code",
   "execution_count": 512,
   "metadata": {},
   "outputs": [
    {
     "data": {
      "image/png": "[encoded data removed]",
      "text/plain": [
       "<Figure size 720x432 with 1 Axes>"
      ]
     },
     "metadata": {},
     "output_type": "display_data"
    }
   ],
   "source": [
    "tester.error_vis(X_data_3)"
   ]
  },
  {
   "cell_type": "markdown",
   "metadata": {},
   "source": [
    "## Being more specific with extraction type"
   ]
  },
  {
   "cell_type": "code",
   "execution_count": 513,
   "metadata": {},
   "outputs": [],
   "source": [
    "X_data_4_raw = X_data.copy()\n",
    "X_data_4_col = X[['extraction_type']].iloc[X_data.index]"
   ]
  },
  {
   "cell_type": "code",
   "execution_count": 515,
   "metadata": {},
   "outputs": [],
   "source": [
    "ohe2 = OneHotEncoder(sparse=False)\n",
    "ohe2.fit(X_data_4_col)\n",
    "X_data_4_ohe = pd.DataFrame(ohe2.transform(X_data_4_col), columns = ohe2.get_feature_names(input_features = X_data_4_col.columns))\n",
    "X_data_4_old = pd.concat((X_data_4_raw.reset_index(), X_data_4_ohe.reset_index()), axis=1)"
   ]
  },
  {
   "cell_type": "code",
   "execution_count": 517,
   "metadata": {},
   "outputs": [],
   "source": [
    "ex_group_remove_list = []\n",
    "for x in X_data_4_old.columns:\n",
    "    if 'extraction_type_group_' in x:\n",
    "        ex_group_remove_list.append(x)\n",
    "X_data_4 = X_data_4_old.drop(columns = ex_group_remove_list)"
   ]
  },
  {
   "cell_type": "code",
   "execution_count": 518,
   "metadata": {},
   "outputs": [
    {
     "data": {
      "text/html": [
       "<div>\n",
       "<style scoped>\n",
       "    .dataframe tbody tr th:only-of-type {\n",
       "        vertical-align: middle;\n",
       "    }\n",
       "\n",
       "    .dataframe tbody tr th {\n",
       "        vertical-align: top;\n",
       "    }\n",
       "\n",
       "    .dataframe thead th {\n",
       "        text-align: right;\n",
       "    }\n",
       "</style>\n",
       "<table border=\"1\" class=\"dataframe\">\n",
       "  <thead>\n",
       "    <tr style=\"text-align: right;\">\n",
       "      <th></th>\n",
       "      <th>f1 score</th>\n",
       "      <th>accuracy_score</th>\n",
       "      <th>Notes</th>\n",
       "    </tr>\n",
       "  </thead>\n",
       "  <tbody>\n",
       "    <tr>\n",
       "      <th>0</th>\n",
       "      <td>0.827040</td>\n",
       "      <td>0.797262</td>\n",
       "      <td>Base model with standard feature engineering</td>\n",
       "    </tr>\n",
       "    <tr>\n",
       "      <th>1</th>\n",
       "      <td>0.826764</td>\n",
       "      <td>0.796431</td>\n",
       "      <td>Removed Date Recorded and Construction Year</td>\n",
       "    </tr>\n",
       "    <tr>\n",
       "      <th>2</th>\n",
       "      <td>0.826684</td>\n",
       "      <td>0.795578</td>\n",
       "      <td>Removed Construction Year</td>\n",
       "    </tr>\n",
       "    <tr>\n",
       "      <th>3</th>\n",
       "      <td>0.826273</td>\n",
       "      <td>0.795735</td>\n",
       "      <td>Removed basin column</td>\n",
       "    </tr>\n",
       "    <tr>\n",
       "      <th>4</th>\n",
       "      <td>0.765611</td>\n",
       "      <td>0.754411</td>\n",
       "      <td>Replaced Extraction Group with Extraction Type</td>\n",
       "    </tr>\n",
       "  </tbody>\n",
       "</table>\n",
       "</div>"
      ],
      "text/plain": [
       "   f1 score  accuracy_score                                           Notes\n",
       "0  0.827040        0.797262    Base model with standard feature engineering\n",
       "1  0.826764        0.796431     Removed Date Recorded and Construction Year\n",
       "2  0.826684        0.795578                       Removed Construction Year\n",
       "3  0.826273        0.795735                            Removed basin column\n",
       "4  0.765611        0.754411  Replaced Extraction Group with Extraction Type"
      ]
     },
     "execution_count": 518,
     "metadata": {},
     "output_type": "execute_result"
    }
   ],
   "source": [
    "tester.model_history(X_data_4, notes='Replaced Extraction Group with Extraction Type')"
   ]
  },
  {
   "cell_type": "markdown",
   "metadata": {},
   "source": [
    "## Dropping the first row of each encoded variable"
   ]
  },
  {
   "cell_type": "code",
   "execution_count": 519,
   "metadata": {},
   "outputs": [],
   "source": [
    "ohe3 = OneHotEncoder(sparse=False, drop='first')\n",
    "ohe3.fit(X_cats)\n",
    "X_5_cats_ohe = pd.DataFrame(ohe3.transform(X_cats), columns = ohe3.get_feature_names(input_features = X_cats.columns))"
   ]
  },
  {
   "cell_type": "code",
   "execution_count": 520,
   "metadata": {},
   "outputs": [],
   "source": [
    "X_data_5 = pd.concat((X_nums_scaled, X_5_cats_ohe), axis=1)"
   ]
  },
  {
   "cell_type": "code",
   "execution_count": 521,
   "metadata": {},
   "outputs": [
    {
     "data": {
      "text/html": [
       "<div>\n",
       "<style scoped>\n",
       "    .dataframe tbody tr th:only-of-type {\n",
       "        vertical-align: middle;\n",
       "    }\n",
       "\n",
       "    .dataframe tbody tr th {\n",
       "        vertical-align: top;\n",
       "    }\n",
       "\n",
       "    .dataframe thead th {\n",
       "        text-align: right;\n",
       "    }\n",
       "</style>\n",
       "<table border=\"1\" class=\"dataframe\">\n",
       "  <thead>\n",
       "    <tr style=\"text-align: right;\">\n",
       "      <th></th>\n",
       "      <th>f1 score</th>\n",
       "      <th>accuracy_score</th>\n",
       "      <th>Notes</th>\n",
       "    </tr>\n",
       "  </thead>\n",
       "  <tbody>\n",
       "    <tr>\n",
       "      <th>0</th>\n",
       "      <td>0.827040</td>\n",
       "      <td>0.797262</td>\n",
       "      <td>Base model with standard feature engineering</td>\n",
       "    </tr>\n",
       "    <tr>\n",
       "      <th>1</th>\n",
       "      <td>0.826764</td>\n",
       "      <td>0.796431</td>\n",
       "      <td>Removed Date Recorded and Construction Year</td>\n",
       "    </tr>\n",
       "    <tr>\n",
       "      <th>2</th>\n",
       "      <td>0.826684</td>\n",
       "      <td>0.795578</td>\n",
       "      <td>Removed Construction Year</td>\n",
       "    </tr>\n",
       "    <tr>\n",
       "      <th>3</th>\n",
       "      <td>0.826273</td>\n",
       "      <td>0.795735</td>\n",
       "      <td>Removed basin column</td>\n",
       "    </tr>\n",
       "    <tr>\n",
       "      <th>4</th>\n",
       "      <td>0.765611</td>\n",
       "      <td>0.754411</td>\n",
       "      <td>Replaced Extraction Group with Extraction Type</td>\n",
       "    </tr>\n",
       "    <tr>\n",
       "      <th>5</th>\n",
       "      <td>0.824732</td>\n",
       "      <td>0.796857</td>\n",
       "      <td>Dropped first columns for OHE'd features</td>\n",
       "    </tr>\n",
       "  </tbody>\n",
       "</table>\n",
       "</div>"
      ],
      "text/plain": [
       "   f1 score  accuracy_score                                           Notes\n",
       "0  0.827040        0.797262    Base model with standard feature engineering\n",
       "1  0.826764        0.796431     Removed Date Recorded and Construction Year\n",
       "2  0.826684        0.795578                       Removed Construction Year\n",
       "3  0.826273        0.795735                            Removed basin column\n",
       "4  0.765611        0.754411  Replaced Extraction Group with Extraction Type\n",
       "5  0.824732        0.796857        Dropped first columns for OHE'd features"
      ]
     },
     "execution_count": 521,
     "metadata": {},
     "output_type": "execute_result"
    }
   ],
   "source": [
    "tester.model_history(X_data_5, notes = \"Dropped first columns for OHE'd features\")"
   ]
  },
  {
   "cell_type": "markdown",
   "metadata": {},
   "source": [
    "## Dropping Age"
   ]
  },
  {
   "cell_type": "code",
   "execution_count": 522,
   "metadata": {},
   "outputs": [],
   "source": [
    "X_data_6 = X_data.drop(columns = 'age')"
   ]
  },
  {
   "cell_type": "code",
   "execution_count": 523,
   "metadata": {},
   "outputs": [
    {
     "data": {
      "text/html": [
       "<div>\n",
       "<style scoped>\n",
       "    .dataframe tbody tr th:only-of-type {\n",
       "        vertical-align: middle;\n",
       "    }\n",
       "\n",
       "    .dataframe tbody tr th {\n",
       "        vertical-align: top;\n",
       "    }\n",
       "\n",
       "    .dataframe thead th {\n",
       "        text-align: right;\n",
       "    }\n",
       "</style>\n",
       "<table border=\"1\" class=\"dataframe\">\n",
       "  <thead>\n",
       "    <tr style=\"text-align: right;\">\n",
       "      <th></th>\n",
       "      <th>f1 score</th>\n",
       "      <th>accuracy_score</th>\n",
       "      <th>Notes</th>\n",
       "    </tr>\n",
       "  </thead>\n",
       "  <tbody>\n",
       "    <tr>\n",
       "      <th>0</th>\n",
       "      <td>0.827040</td>\n",
       "      <td>0.797262</td>\n",
       "      <td>Base model with standard feature engineering</td>\n",
       "    </tr>\n",
       "    <tr>\n",
       "      <th>1</th>\n",
       "      <td>0.826764</td>\n",
       "      <td>0.796431</td>\n",
       "      <td>Removed Date Recorded and Construction Year</td>\n",
       "    </tr>\n",
       "    <tr>\n",
       "      <th>2</th>\n",
       "      <td>0.826684</td>\n",
       "      <td>0.795578</td>\n",
       "      <td>Removed Construction Year</td>\n",
       "    </tr>\n",
       "    <tr>\n",
       "      <th>3</th>\n",
       "      <td>0.826273</td>\n",
       "      <td>0.795735</td>\n",
       "      <td>Removed basin column</td>\n",
       "    </tr>\n",
       "    <tr>\n",
       "      <th>4</th>\n",
       "      <td>0.765611</td>\n",
       "      <td>0.754411</td>\n",
       "      <td>Replaced Extraction Group with Extraction Type</td>\n",
       "    </tr>\n",
       "    <tr>\n",
       "      <th>5</th>\n",
       "      <td>0.824732</td>\n",
       "      <td>0.796857</td>\n",
       "      <td>Dropped first columns for OHE'd features</td>\n",
       "    </tr>\n",
       "    <tr>\n",
       "      <th>6</th>\n",
       "      <td>0.826692</td>\n",
       "      <td>0.795623</td>\n",
       "      <td>Dropped Age</td>\n",
       "    </tr>\n",
       "  </tbody>\n",
       "</table>\n",
       "</div>"
      ],
      "text/plain": [
       "   f1 score  accuracy_score                                           Notes\n",
       "0  0.827040        0.797262    Base model with standard feature engineering\n",
       "1  0.826764        0.796431     Removed Date Recorded and Construction Year\n",
       "2  0.826684        0.795578                       Removed Construction Year\n",
       "3  0.826273        0.795735                            Removed basin column\n",
       "4  0.765611        0.754411  Replaced Extraction Group with Extraction Type\n",
       "5  0.824732        0.796857        Dropped first columns for OHE'd features\n",
       "6  0.826692        0.795623                                     Dropped Age"
      ]
     },
     "execution_count": 523,
     "metadata": {},
     "output_type": "execute_result"
    }
   ],
   "source": [
    "tester.model_history(X_data_6, notes = 'Dropped Age')"
   ]
  },
  {
   "cell_type": "markdown",
   "metadata": {},
   "source": [
    "# Using Feature Permutation"
   ]
  },
  {
   "cell_type": "markdown",
   "metadata": {},
   "source": [
    "## Dropping All Columns with an error under 0.01 (80 cols)"
   ]
  },
  {
   "cell_type": "code",
   "execution_count": 524,
   "metadata": {},
   "outputs": [],
   "source": [
    "X_train, X_test, y_train, y_test = train_test_split(X_data, y, random_state=1)"
   ]
  },
  {
   "cell_type": "code",
   "execution_count": 525,
   "metadata": {},
   "outputs": [],
   "source": [
    "y_train = np.array(y_train).ravel()"
   ]
  },
  {
   "cell_type": "code",
   "execution_count": 526,
   "metadata": {},
   "outputs": [
    {
     "data": {
      "text/plain": [
       "RandomForestClassifier(max_depth=18, min_samples_split=15, n_estimators=50,\n",
       "                       random_state=1)"
      ]
     },
     "execution_count": 526,
     "metadata": {},
     "output_type": "execute_result"
    }
   ],
   "source": [
    "rf_2.fit(X_train, y_train)"
   ]
  },
  {
   "cell_type": "code",
   "execution_count": 527,
   "metadata": {},
   "outputs": [],
   "source": [
    "perm_result = permutation_importance(rf_2, X_train, y_train, n_repeats=1, random_state=1)"
   ]
  },
  {
   "cell_type": "code",
   "execution_count": 529,
   "metadata": {},
   "outputs": [
    {
     "data": {
      "image/png": "[encoded data removed]",
      "text/plain": [
       "<Figure size 1080x432 with 1 Axes>"
      ]
     },
     "metadata": {},
     "output_type": "display_data"
    }
   ],
   "source": [
    "f_importance = sorted(list(zip(X_train.columns, perm_result.importances.ravel())), key=lambda x: x[1])\n",
    "x_ax = [_[0] for _ in f_importance]\n",
    "y_ax = [_[1] for _ in f_importance]\n",
    "\n",
    "plt.figure(figsize=(15,6))\n",
    "plt.bar(x_ax, y_ax)\n",
    "plt.xticks(rotation=90);"
   ]
  },
  {
   "cell_type": "code",
   "execution_count": 530,
   "metadata": {},
   "outputs": [],
   "source": [
    "f_imp_df = pd.DataFrame(f_importance)"
   ]
  },
  {
   "cell_type": "code",
   "execution_count": 531,
   "metadata": {},
   "outputs": [],
   "source": [
    "perm_droplist = list(f_imp_df.loc[f_imp_df[1]<0.01][0])"
   ]
  },
  {
   "cell_type": "code",
   "execution_count": 532,
   "metadata": {},
   "outputs": [],
   "source": [
    "X_data_7 = X_data.drop(columns = perm_droplist, axis=1)"
   ]
  },
  {
   "cell_type": "code",
   "execution_count": 533,
   "metadata": {},
   "outputs": [
    {
     "data": {
      "text/html": [
       "<div>\n",
       "<style scoped>\n",
       "    .dataframe tbody tr th:only-of-type {\n",
       "        vertical-align: middle;\n",
       "    }\n",
       "\n",
       "    .dataframe tbody tr th {\n",
       "        vertical-align: top;\n",
       "    }\n",
       "\n",
       "    .dataframe thead th {\n",
       "        text-align: right;\n",
       "    }\n",
       "</style>\n",
       "<table border=\"1\" class=\"dataframe\">\n",
       "  <thead>\n",
       "    <tr style=\"text-align: right;\">\n",
       "      <th></th>\n",
       "      <th>f1 score</th>\n",
       "      <th>accuracy_score</th>\n",
       "      <th>Notes</th>\n",
       "    </tr>\n",
       "  </thead>\n",
       "  <tbody>\n",
       "    <tr>\n",
       "      <th>0</th>\n",
       "      <td>0.827040</td>\n",
       "      <td>0.797262</td>\n",
       "      <td>Base model with standard feature engineering</td>\n",
       "    </tr>\n",
       "    <tr>\n",
       "      <th>1</th>\n",
       "      <td>0.826764</td>\n",
       "      <td>0.796431</td>\n",
       "      <td>Removed Date Recorded and Construction Year</td>\n",
       "    </tr>\n",
       "    <tr>\n",
       "      <th>2</th>\n",
       "      <td>0.826684</td>\n",
       "      <td>0.795578</td>\n",
       "      <td>Removed Construction Year</td>\n",
       "    </tr>\n",
       "    <tr>\n",
       "      <th>3</th>\n",
       "      <td>0.826273</td>\n",
       "      <td>0.795735</td>\n",
       "      <td>Removed basin column</td>\n",
       "    </tr>\n",
       "    <tr>\n",
       "      <th>4</th>\n",
       "      <td>0.765611</td>\n",
       "      <td>0.754411</td>\n",
       "      <td>Replaced Extraction Group with Extraction Type</td>\n",
       "    </tr>\n",
       "    <tr>\n",
       "      <th>5</th>\n",
       "      <td>0.824732</td>\n",
       "      <td>0.796857</td>\n",
       "      <td>Dropped first columns for OHE'd features</td>\n",
       "    </tr>\n",
       "    <tr>\n",
       "      <th>6</th>\n",
       "      <td>0.826692</td>\n",
       "      <td>0.795623</td>\n",
       "      <td>Dropped Age</td>\n",
       "    </tr>\n",
       "    <tr>\n",
       "      <th>7</th>\n",
       "      <td>0.797599</td>\n",
       "      <td>0.762110</td>\n",
       "      <td>Dropped 80 columns with Feature Permutation</td>\n",
       "    </tr>\n",
       "  </tbody>\n",
       "</table>\n",
       "</div>"
      ],
      "text/plain": [
       "   f1 score  accuracy_score                                           Notes\n",
       "0  0.827040        0.797262    Base model with standard feature engineering\n",
       "1  0.826764        0.796431     Removed Date Recorded and Construction Year\n",
       "2  0.826684        0.795578                       Removed Construction Year\n",
       "3  0.826273        0.795735                            Removed basin column\n",
       "4  0.765611        0.754411  Replaced Extraction Group with Extraction Type\n",
       "5  0.824732        0.796857        Dropped first columns for OHE'd features\n",
       "6  0.826692        0.795623                                     Dropped Age\n",
       "7  0.797599        0.762110     Dropped 80 columns with Feature Permutation"
      ]
     },
     "execution_count": 533,
     "metadata": {},
     "output_type": "execute_result"
    }
   ],
   "source": [
    "tester.model_history(X_data_7, notes='Dropped 80 columns with Feature Permutation')"
   ]
  },
  {
   "cell_type": "markdown",
   "metadata": {},
   "source": [
    "## Dropping All Negative Error"
   ]
  },
  {
   "cell_type": "code",
   "execution_count": 534,
   "metadata": {},
   "outputs": [],
   "source": [
    "perm_droplist_2 = list(f_imp_df.loc[f_imp_df[1]<0][0])"
   ]
  },
  {
   "cell_type": "code",
   "execution_count": 535,
   "metadata": {},
   "outputs": [],
   "source": [
    "X_data_8 = X_data.drop(columns = perm_droplist_2, axis=1)"
   ]
  },
  {
   "cell_type": "code",
   "execution_count": 536,
   "metadata": {},
   "outputs": [
    {
     "data": {
      "text/html": [
       "<div>\n",
       "<style scoped>\n",
       "    .dataframe tbody tr th:only-of-type {\n",
       "        vertical-align: middle;\n",
       "    }\n",
       "\n",
       "    .dataframe tbody tr th {\n",
       "        vertical-align: top;\n",
       "    }\n",
       "\n",
       "    .dataframe thead th {\n",
       "        text-align: right;\n",
       "    }\n",
       "</style>\n",
       "<table border=\"1\" class=\"dataframe\">\n",
       "  <thead>\n",
       "    <tr style=\"text-align: right;\">\n",
       "      <th></th>\n",
       "      <th>f1 score</th>\n",
       "      <th>accuracy_score</th>\n",
       "      <th>Notes</th>\n",
       "    </tr>\n",
       "  </thead>\n",
       "  <tbody>\n",
       "    <tr>\n",
       "      <th>0</th>\n",
       "      <td>0.827040</td>\n",
       "      <td>0.797262</td>\n",
       "      <td>Base model with standard feature engineering</td>\n",
       "    </tr>\n",
       "    <tr>\n",
       "      <th>1</th>\n",
       "      <td>0.826764</td>\n",
       "      <td>0.796431</td>\n",
       "      <td>Removed Date Recorded and Construction Year</td>\n",
       "    </tr>\n",
       "    <tr>\n",
       "      <th>2</th>\n",
       "      <td>0.826684</td>\n",
       "      <td>0.795578</td>\n",
       "      <td>Removed Construction Year</td>\n",
       "    </tr>\n",
       "    <tr>\n",
       "      <th>3</th>\n",
       "      <td>0.826273</td>\n",
       "      <td>0.795735</td>\n",
       "      <td>Removed basin column</td>\n",
       "    </tr>\n",
       "    <tr>\n",
       "      <th>4</th>\n",
       "      <td>0.765611</td>\n",
       "      <td>0.754411</td>\n",
       "      <td>Replaced Extraction Group with Extraction Type</td>\n",
       "    </tr>\n",
       "    <tr>\n",
       "      <th>5</th>\n",
       "      <td>0.824732</td>\n",
       "      <td>0.796857</td>\n",
       "      <td>Dropped first columns for OHE'd features</td>\n",
       "    </tr>\n",
       "    <tr>\n",
       "      <th>6</th>\n",
       "      <td>0.826692</td>\n",
       "      <td>0.795623</td>\n",
       "      <td>Dropped Age</td>\n",
       "    </tr>\n",
       "    <tr>\n",
       "      <th>7</th>\n",
       "      <td>0.797599</td>\n",
       "      <td>0.762110</td>\n",
       "      <td>Dropped 80 columns with Feature Permutation</td>\n",
       "    </tr>\n",
       "    <tr>\n",
       "      <th>8</th>\n",
       "      <td>0.826621</td>\n",
       "      <td>0.796207</td>\n",
       "      <td>Dropped Negative Error cols w/ FP</td>\n",
       "    </tr>\n",
       "  </tbody>\n",
       "</table>\n",
       "</div>"
      ],
      "text/plain": [
       "   f1 score  accuracy_score                                           Notes\n",
       "0  0.827040        0.797262    Base model with standard feature engineering\n",
       "1  0.826764        0.796431     Removed Date Recorded and Construction Year\n",
       "2  0.826684        0.795578                       Removed Construction Year\n",
       "3  0.826273        0.795735                            Removed basin column\n",
       "4  0.765611        0.754411  Replaced Extraction Group with Extraction Type\n",
       "5  0.824732        0.796857        Dropped first columns for OHE'd features\n",
       "6  0.826692        0.795623                                     Dropped Age\n",
       "7  0.797599        0.762110     Dropped 80 columns with Feature Permutation\n",
       "8  0.826621        0.796207               Dropped Negative Error cols w/ FP"
      ]
     },
     "execution_count": 536,
     "metadata": {},
     "output_type": "execute_result"
    }
   ],
   "source": [
    "tester.model_history(X_data_8, notes='Dropped Negative Error cols w/ FP')"
   ]
  }
 ],
 "metadata": {
  "kernelspec": {
   "display_name": "learn-env",
   "language": "python",
   "name": "learn-env"
  },
  "language_info": {
   "codemirror_mode": {
    "name": "ipython",
    "version": 3
   },
   "file_extension": ".py",
   "mimetype": "text/x-python",
   "name": "python",
   "nbconvert_exporter": "python",
   "pygments_lexer": "ipython3",
   "version": "3.8.3"
  }
 },
 "nbformat": 4,
 "nbformat_minor": 4
}
