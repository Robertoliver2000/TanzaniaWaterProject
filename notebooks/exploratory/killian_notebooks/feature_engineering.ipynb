{
 "cells": [
  {
   "cell_type": "code",
   "execution_count": 3,
   "metadata": {},
   "outputs": [],
   "source": [
    "import pandas as pd\n",
    "import numpy as np\n",
    "import seaborn as sns\n",
    "import matplotlib.pyplot as plt\n",
    "%matplotlib inline\n",
    "from matplotlib import rcParams\n",
    "\n",
    "from sklearn.compose import make_column_transformer\n",
    "from sklearn.compose import make_column_selector\n",
    "\n",
    "from sklearn.linear_model import LogisticRegression, LinearRegression\n",
    "from sklearn.neighbors import KNeighborsClassifier, KNeighborsRegressor\n",
    "from sklearn.tree import DecisionTreeClassifier, DecisionTreeRegressor\n",
    "from sklearn.ensemble import BaggingClassifier, RandomForestClassifier, ExtraTreesClassifier, VotingClassifier\n",
    "from xgboost import XGBClassifier\n",
    "\n",
    "from sklearn.metrics import recall_score, accuracy_score, f1_score, confusion_matrix, classification_report\n",
    "from sklearn.model_selection import train_test_split, GridSearchCV,\\\n",
    "cross_val_score\n",
    "from sklearn.preprocessing import OneHotEncoder, StandardScaler\n",
    "from sklearn.pipeline import Pipeline\n",
    "from sklearn.compose import ColumnTransformer\n",
    "from sklearn.ensemble import StackingRegressor\n",
    "from sklearn.ensemble import StackingClassifier\n",
    "\n",
    "from sklearn.impute import SimpleImputer\n",
    "\n",
    "from mpl_toolkits import mplot3d"
   ]
  },
  {
   "cell_type": "code",
   "execution_count": 4,
   "metadata": {},
   "outputs": [],
   "source": [
    "pd.set_option('display.max_columns', None)\n",
    "X = pd.read_csv('../../../data/trainingsetvalues.csv')\n",
    "y_full = pd.read_csv('../../../data/trainingsetlabels.csv')"
   ]
  },
  {
   "cell_type": "code",
   "execution_count": 5,
   "metadata": {},
   "outputs": [],
   "source": [
    "X.funder = X.funder.replace(np.nan, 'Unknown')\n",
    "X.installer = X.installer.replace(np.nan, 'Unknown')\n",
    "X.permit = X.permit.replace(np.nan, False)"
   ]
  },
  {
   "cell_type": "code",
   "execution_count": 6,
   "metadata": {},
   "outputs": [],
   "source": [
    "y_full = y_full.drop(columns = 'id')"
   ]
  },
  {
   "cell_type": "code",
   "execution_count": 7,
   "metadata": {},
   "outputs": [],
   "source": [
    "y_full.status_group.loc[y_full.status_group == 'functional'] = 1\n",
    "y_full.status_group.loc[y_full.status_group != 1] = 0\n",
    "y_full = y_full.astype(int)"
   ]
  },
  {
   "cell_type": "code",
   "execution_count": 8,
   "metadata": {},
   "outputs": [],
   "source": [
    "droplist = ['wpt_name', 'subvillage', 'num_private', 'scheme_name', 'recorded_by', 'scheme_management', 'management', 'extraction_type', \n",
    "            'payment', 'extraction_type_class', 'quality_group', 'quantity_group', 'source', 'source_class', 'waterpoint_type_group', 'ward',\n",
    "           'region_code', 'district_code', 'public_meeting', 'funder', 'lga', 'management_group']\n",
    "\n",
    "X_clean_full = X.drop(columns = droplist, axis=1)"
   ]
  },
  {
   "cell_type": "markdown",
   "metadata": {},
   "source": [
    "# Filled in Zero's for the gps_height column"
   ]
  },
  {
   "cell_type": "code",
   "execution_count": 9,
   "metadata": {},
   "outputs": [],
   "source": [
    "dodoma_idx = X_clean_full[X_clean_full.region == 'Dodoma'].index\n",
    "X_clean_full.at[dodoma_idx, 'gps_height'] = 1350"
   ]
  },
  {
   "cell_type": "code",
   "execution_count": 10,
   "metadata": {},
   "outputs": [],
   "source": [
    "kagera_idx = X_clean_full[X_clean_full.region == 'Kagera'].index\n",
    "X_clean_full.at[kagera_idx, 'gps_height'] = 1450"
   ]
  },
  {
   "cell_type": "code",
   "execution_count": 11,
   "metadata": {},
   "outputs": [],
   "source": [
    "mbeya_idx = X_clean_full[X_clean_full.region == 'Mbeya'].index\n",
    "X_clean_full.at[mbeya_idx, 'gps_height'] = 1715"
   ]
  },
  {
   "cell_type": "code",
   "execution_count": 12,
   "metadata": {},
   "outputs": [],
   "source": [
    "tabora_idx = X_clean_full[X_clean_full.region == 'Tabora'].index\n",
    "X_clean_full.at[tabora_idx, 'gps_height'] = 1200"
   ]
  },
  {
   "cell_type": "code",
   "execution_count": 13,
   "metadata": {},
   "outputs": [],
   "source": [
    "shinyanga_idx = X_clean_full[X_clean_full.region == 'Shinyanga'].index\n",
    "X_clean_full.at[shinyanga_idx, 'gps_height'] = 1162"
   ]
  },
  {
   "cell_type": "code",
   "execution_count": 14,
   "metadata": {},
   "outputs": [],
   "source": [
    "mwanza_idx = X_clean_full[X_clean_full.region == 'Mwanza'].index\n",
    "X_clean_full.at[mwanza_idx, 'gps_height'] = 1200"
   ]
  },
  {
   "cell_type": "markdown",
   "metadata": {},
   "source": [
    "# Created a new age column"
   ]
  },
  {
   "cell_type": "code",
   "execution_count": 15,
   "metadata": {},
   "outputs": [],
   "source": [
    "years = [int(X_clean_full['date_recorded'][x][:4]) for x in range(len(X_clean_full['date_recorded']))]\n",
    "X_clean_full['date_recorded'] = years"
   ]
  },
  {
   "cell_type": "code",
   "execution_count": 16,
   "metadata": {},
   "outputs": [],
   "source": [
    "X_clean_full.construction_year = X_clean_full.construction_year.replace(0, 2000)"
   ]
  },
  {
   "cell_type": "code",
   "execution_count": 17,
   "metadata": {},
   "outputs": [],
   "source": [
    "X_clean_full['age'] = X_clean_full['date_recorded'] - X_clean_full['construction_year']"
   ]
  },
  {
   "cell_type": "markdown",
   "metadata": {},
   "source": [
    "# Cleaned up the Installer Column"
   ]
  },
  {
   "cell_type": "code",
   "execution_count": 18,
   "metadata": {},
   "outputs": [
    {
     "data": {
      "text/plain": [
       "['DWE', 'Unknown', 'Government', 'RWE', 'Commu', 'DANIDA', 'KKKT']"
      ]
     },
     "execution_count": 18,
     "metadata": {},
     "output_type": "execute_result"
    }
   ],
   "source": [
    "top_installers = list(X_clean_full.installer.value_counts()[:7].index)\n",
    "top_installers"
   ]
  },
  {
   "cell_type": "code",
   "execution_count": 19,
   "metadata": {},
   "outputs": [
    {
     "name": "stderr",
     "output_type": "stream",
     "text": [
      "/Applications/Utilities/anaconda3/lib/python3.8/site-packages/pandas/core/indexing.py:671: SettingWithCopyWarning: \n",
      "A value is trying to be set on a copy of a slice from a DataFrame\n",
      "\n",
      "See the caveats in the documentation: https://pandas.pydata.org/pandas-docs/stable/user_guide/indexing.html#returning-a-view-versus-a-copy\n",
      "  self._setitem_with_indexer(indexer, value)\n"
     ]
    }
   ],
   "source": [
    "X_clean_full.installer.loc[~X_clean_full['installer'].isin(top_installers)] = 'Other'"
   ]
  },
  {
   "cell_type": "markdown",
   "metadata": {},
   "source": [
    "# TT Split"
   ]
  },
  {
   "cell_type": "code",
   "execution_count": 184,
   "metadata": {},
   "outputs": [],
   "source": [
    "X_clean, X_test, y, y_test = train_test_split(X_clean_full, y_full, random_state=1)"
   ]
  },
  {
   "cell_type": "markdown",
   "metadata": {},
   "source": [
    "# Made a function for returning catagorical and numerical columns"
   ]
  },
  {
   "cell_type": "code",
   "execution_count": 21,
   "metadata": {},
   "outputs": [],
   "source": [
    "def cleaning(data):\n",
    "    cat_cols = list(data.select_dtypes('object'))\n",
    "    numeric_cols = list(data.select_dtypes('number'))\n",
    "    cat_df = pd.DataFrame(data[cat_cols])\n",
    "    numeric_df = pd.DataFrame(data[numeric_cols])\n",
    "    return cat_df, numeric_df"
   ]
  },
  {
   "cell_type": "markdown",
   "metadata": {},
   "source": [
    "# Split into categorical and numerical"
   ]
  },
  {
   "cell_type": "code",
   "execution_count": 22,
   "metadata": {},
   "outputs": [],
   "source": [
    "X_cats, X_nums = cleaning(X_clean)\n",
    "X_cats_test, X_nums_test = cleaning(X_test)\n",
    "X_nums.drop(columns = ['longitude', 'latitude', 'id'], inplace=True)\n",
    "X_nums_test.drop(columns = ['longitude', 'latitude', 'id'], inplace=True)"
   ]
  },
  {
   "cell_type": "markdown",
   "metadata": {},
   "source": [
    "# One hot encoder and scaler"
   ]
  },
  {
   "cell_type": "code",
   "execution_count": 23,
   "metadata": {},
   "outputs": [],
   "source": [
    "ohe = OneHotEncoder(sparse=False)\n",
    "ohe.fit(X_cats)\n",
    "X_cats_ohe = pd.DataFrame(ohe.transform(X_cats), columns = ohe.get_feature_names(input_features = X_cats.columns))\n",
    "X_cats_ohe_test = pd.DataFrame(ohe.transform(X_cats_test), columns = ohe.get_feature_names(input_features = X_cats_test.columns))"
   ]
  },
  {
   "cell_type": "code",
   "execution_count": 24,
   "metadata": {},
   "outputs": [],
   "source": [
    "ss = StandardScaler()\n",
    "ss.fit(X_nums)\n",
    "X_nums_scaled = pd.DataFrame(ss.transform(X_nums), columns = X_nums.columns)\n",
    "X_nums_scaled_test = pd.DataFrame(ss.transform(X_nums_test), columns = X_nums_test.columns)"
   ]
  },
  {
   "cell_type": "code",
   "execution_count": 25,
   "metadata": {},
   "outputs": [],
   "source": [
    "X_data = pd.concat((X_nums_scaled, X_cats_ohe), axis=1)\n",
    "X_data_test = pd.concat((X_nums_scaled_test, X_cats_ohe_test), axis=1)"
   ]
  },
  {
   "cell_type": "markdown",
   "metadata": {},
   "source": [
    "# Our class for testing data features on our model"
   ]
  },
  {
   "cell_type": "code",
   "execution_count": 169,
   "metadata": {},
   "outputs": [],
   "source": [
    "class Model:\n",
    "    \n",
    "    def __init__(self, model, y):\n",
    "        self.model = model\n",
    "        self.y = np.array(y).ravel()\n",
    "        self.columns = ['f1 score', 'accuracy_score', 'Notes']\n",
    "        self.df = pd.DataFrame(columns = self.columns)\n",
    "        \n",
    "    def model_history(self, X, notes, y_new=pd.DataFrame()):\n",
    "        if y_new.empty==True:\n",
    "            y_new = self.y\n",
    "        \n",
    "        f1_score_ = cross_val_score(self.model, X, cv=3, scoring = 'f1', y=y_new)\n",
    "        accuracy_score_ = cross_val_score(self.model, X, cv=3, scoring='accuracy', y=y_new)\n",
    "        frame = pd.DataFrame([[f1_score_.mean(), accuracy_score_.mean(), notes]], columns=self.columns)\n",
    "        self.df = self.df.append(frame).reset_index(drop=True)\n",
    "#       self.df = self.df.sort_values('f1 score', ascending=False)\n",
    "        return self.df\n",
    "\n",
    "    def error_vis(self, X, y_new=pd.DataFrame()):\n",
    "        if y_new.empty==True:\n",
    "            y_new = self.y\n",
    "        self.model.fit(X, y_new)\n",
    "        sns.set(rc = {'figure.figsize':(10,6)})\n",
    "        sns.distplot((np.array(y_new).ravel() - self.model.predict_proba(X)[:,1]),\n",
    "            color='blue', bins=25, kde_kws = {'color':'red'})\n",
    "        "
   ]
  },
  {
   "cell_type": "markdown",
   "metadata": {},
   "source": [
    "### Function for removing one hot encoded catagories from a DataFrame"
   ]
  },
  {
   "cell_type": "code",
   "execution_count": 27,
   "metadata": {},
   "outputs": [],
   "source": [
    "def remove_column(col):\n",
    "    remove_list = []\n",
    "    for x in X_data.columns:\n",
    "        if col in x:\n",
    "            remove_list.append(x)\n",
    "    X_data_new = X_data.drop(columns = remove_list)\n",
    "    return X_data_new"
   ]
  },
  {
   "cell_type": "markdown",
   "metadata": {},
   "source": [
    "# Our Models"
   ]
  },
  {
   "cell_type": "code",
   "execution_count": 28,
   "metadata": {},
   "outputs": [],
   "source": [
    "rf_2 = RandomForestClassifier(max_depth = 18, min_samples_split = 15, n_estimators = 50, random_state = 1)\n",
    "xgb = XGBClassifier(max_depth = 8, gamma =0.5, tree_method='hist', eta=.295, verbosity=0)\n",
    "estimators = [\n",
    "    ('xg', XGBClassifier(max_depth = 8, gamma =0.5, tree_method='hist', eta=.295)),\n",
    "    ('rf', RandomForestClassifier(max_depth = 18, min_samples_split = 15, n_estimators = 50))\n",
    "]\n",
    "\n",
    "stacked_model = StackingClassifier(estimators)"
   ]
  },
  {
   "cell_type": "markdown",
   "metadata": {},
   "source": [
    "## Base Model with no engineering"
   ]
  },
  {
   "cell_type": "code",
   "execution_count": 172,
   "metadata": {},
   "outputs": [],
   "source": [
    "rf_tester = Model(rf_2, y)\n",
    "xgb_tester = Model(xgb, y)"
   ]
  },
  {
   "cell_type": "code",
   "execution_count": 30,
   "metadata": {},
   "outputs": [
    {
     "name": "stderr",
     "output_type": "stream",
     "text": [
      "/Applications/Utilities/anaconda3/lib/python3.8/site-packages/xgboost/sklearn.py:888: UserWarning: The use of label encoder in XGBClassifier is deprecated and will be removed in a future release. To remove this warning, do the following: 1) Pass option use_label_encoder=False when constructing XGBClassifier object; and 2) Encode your labels (y) as integers starting with 0, i.e. 0, 1, 2, ..., [num_class - 1].\n",
      "  warnings.warn(label_encoder_deprecation_msg, UserWarning)\n",
      "/Applications/Utilities/anaconda3/lib/python3.8/site-packages/xgboost/sklearn.py:888: UserWarning: The use of label encoder in XGBClassifier is deprecated and will be removed in a future release. To remove this warning, do the following: 1) Pass option use_label_encoder=False when constructing XGBClassifier object; and 2) Encode your labels (y) as integers starting with 0, i.e. 0, 1, 2, ..., [num_class - 1].\n",
      "  warnings.warn(label_encoder_deprecation_msg, UserWarning)\n"
     ]
    },
    {
     "data": {
      "text/html": [
       "<div>\n",
       "<style scoped>\n",
       "    .dataframe tbody tr th:only-of-type {\n",
       "        vertical-align: middle;\n",
       "    }\n",
       "\n",
       "    .dataframe tbody tr th {\n",
       "        vertical-align: top;\n",
       "    }\n",
       "\n",
       "    .dataframe thead th {\n",
       "        text-align: right;\n",
       "    }\n",
       "</style>\n",
       "<table border=\"1\" class=\"dataframe\">\n",
       "  <thead>\n",
       "    <tr style=\"text-align: right;\">\n",
       "      <th></th>\n",
       "      <th>f1 score</th>\n",
       "      <th>accuracy_score</th>\n",
       "      <th>Notes</th>\n",
       "    </tr>\n",
       "  </thead>\n",
       "  <tbody>\n",
       "    <tr>\n",
       "      <th>0</th>\n",
       "      <td>0.825515</td>\n",
       "      <td>0.800606</td>\n",
       "      <td>Base model with standard feature engineering</td>\n",
       "    </tr>\n",
       "  </tbody>\n",
       "</table>\n",
       "</div>"
      ],
      "text/plain": [
       "   f1 score  accuracy_score                                         Notes\n",
       "0  0.825515        0.800606  Base model with standard feature engineering"
      ]
     },
     "execution_count": 30,
     "metadata": {},
     "output_type": "execute_result"
    }
   ],
   "source": [
    "rf_tester.model_history(X_data, notes= 'Base model with standard feature engineering')\n",
    "xgb_tester.model_history(X_data, notes= 'Base model with standard feature engineering')"
   ]
  },
  {
   "cell_type": "code",
   "execution_count": 176,
   "metadata": {},
   "outputs": [],
   "source": [
    "xgb_error_vis = XGBClassifier(max_depth = 8, gamma =0.5, tree_method='hist', eta=.295, verbosity=0)"
   ]
  },
  {
   "cell_type": "code",
   "execution_count": 224,
   "metadata": {},
   "outputs": [
    {
     "name": "stderr",
     "output_type": "stream",
     "text": [
      "/Applications/Utilities/anaconda3/lib/python3.8/site-packages/xgboost/sklearn.py:888: UserWarning: The use of label encoder in XGBClassifier is deprecated and will be removed in a future release. To remove this warning, do the following: 1) Pass option use_label_encoder=False when constructing XGBClassifier object; and 2) Encode your labels (y) as integers starting with 0, i.e. 0, 1, 2, ..., [num_class - 1].\n",
      "  warnings.warn(label_encoder_deprecation_msg, UserWarning)\n",
      "/Applications/Utilities/anaconda3/lib/python3.8/site-packages/sklearn/utils/validation.py:73: DataConversionWarning: A column-vector y was passed when a 1d array was expected. Please change the shape of y to (n_samples, ), for example using ravel().\n",
      "  return f(**kwargs)\n"
     ]
    },
    {
     "data": {
      "image/png": "[encoded data removed]",
      "text/plain": [
       "<Figure size 864x720 with 1 Axes>"
      ]
     },
     "metadata": {},
     "output_type": "display_data"
    }
   ],
   "source": [
    "xgb_error_vis.fit(X_data, y)\n",
    "fig, ax = plt.subplots(figsize=(12,10))\n",
    "sns.set(rc = {'figure.figsize':(10,6)}, style='white')\n",
    "sns.distplot((np.array(y_test).ravel() - xgb_error_vis.predict_proba(X_data_test)[:,1]),\n",
    "    color='blue', bins=25, kde_kws = {'color':'blue'}, hist_kws = {'color':'orange', 'alpha':.7})\n",
    "ax.set_title('Correctness of Predictions', fontsize=25)\n",
    "ax.set_xlabel('Error of Prediction', fontsize=20);\n",
    "ax.set_ylabel('Frequency', fontsize=20);\n",
    "\n",
    "plt.savefig('../../../data/XGB_Model_Error.png')"
   ]
  },
  {
   "cell_type": "markdown",
   "metadata": {},
   "source": [
    "## Testing the model with only data it guessed correctly"
   ]
  },
  {
   "cell_type": "markdown",
   "metadata": {},
   "source": [
    "### (This was a total failure)"
   ]
  },
  {
   "cell_type": "code",
   "execution_count": 31,
   "metadata": {},
   "outputs": [],
   "source": [
    "# def modeling_function(model, X_train, y_train, X_val, y_val):\n",
    "\n",
    "#     # fit model on training data\n",
    "#     y_train = np.array(y_train).ravel()\n",
    "#     y_val = np.array(y_val).ravel()\n",
    "\n",
    "#     model.fit(X_train, y_train)\n",
    "\n",
    "#     # make predictions on training and validation data\n",
    "#     train_preds = model.predict(X_train)\n",
    "#     val_preds = model.predict(X_val)\n",
    "\n",
    "#     # Print accuracy score\n",
    "    \n",
    "#     train_acc = accuracy_score(y_train, train_preds).round(3)\n",
    "#     val_acc = accuracy_score(y_val, val_preds).round(3)\n",
    "#     train_f1 = f1_score(y_train, train_preds).round(3)\n",
    "#     val_f1 = f1_score(y_val, val_preds).round(3)\n",
    "    \n",
    "#     print('----------------------------------------------------')\n",
    "#     print('Accuracy Score:')\n",
    "#     print('Training score: ', accuracy_score(y_train, train_preds).round(3))\n",
    "#     print('Validation score: ', accuracy_score(y_val, val_preds).round(3))\n",
    "#     print('----------------------------------------------------')\n",
    "    \n",
    "#     print('----------------------------------------------------')\n",
    "#     print('f1 Score:')\n",
    "#     print('Training score: ', f1_score(y_train, train_preds).round(3))\n",
    "#     print('Validation score: ', f1_score(y_val, val_preds).round(3))\n",
    "#     print('----------------------------------------------------')"
   ]
  },
  {
   "cell_type": "code",
   "execution_count": 32,
   "metadata": {},
   "outputs": [],
   "source": [
    "# X_train_err, X_test_err, y_train_err, y_test_err = train_test_split(X_data, y, random_state=1)"
   ]
  },
  {
   "cell_type": "code",
   "execution_count": 33,
   "metadata": {},
   "outputs": [],
   "source": [
    "# error_df = pd.DataFrame()\n",
    "# error_df = pd.concat((pd.DataFrame(np.array(y_train).ravel()), pd.DataFrame(rf_err.predict_proba(X_train))), axis=1)\n",
    "# error_df.set_index(X_train_err.index, inplace=True)\n",
    "# error_df['prediction'] = rf_err.predict(X_train_err)\n",
    "# error_df.columns = ['True Value', 'P: Broke', 'P: Works', 'Prediction']\n",
    "\n",
    "# error_df['Correct?'] = (error_df['Prediction'] == error_df['True Value'])\n",
    "# error_df['Percent Wrong'] = np.array(y_train).ravel() - rf_err.predict_proba(X_train_err)[:,1]\n",
    "# error_df['Percent Wrong'] = error_df['Percent Wrong'].map(abs)*100\n",
    "\n",
    "# correct_error_df = error_df.loc[(error_df['Percent Wrong'] < 50)]\n",
    "# incorrect_error_df = error_df.loc[(error_df['Percent Wrong'] >= 50)]\n",
    "\n",
    "# correct_indexes = correct_error_df.index\n",
    "# incorrect_indexes = incorrect_error_df.index\n",
    "\n",
    "# correct_X = X_train_err.drop(index=incorrect_indexes)\n",
    "# correct_y = y_train.drop(index=incorrect_indexes)\n",
    "\n",
    "# incorrect_X = X_train_err.drop(index=correct_indexes)\n",
    "# incorrect_y = y_train.drop(index=correct_indexes)\n"
   ]
  },
  {
   "cell_type": "code",
   "execution_count": 34,
   "metadata": {},
   "outputs": [],
   "source": [
    "# poop = RandomForestClassifier(max_depth = 16, min_samples_split = 2, n_estimators = 100, random_state = 1)"
   ]
  },
  {
   "cell_type": "code",
   "execution_count": 35,
   "metadata": {},
   "outputs": [],
   "source": [
    "# modeling_function(poop, correct_X, correct_y, X_test, y_test)"
   ]
  },
  {
   "cell_type": "code",
   "execution_count": 36,
   "metadata": {},
   "outputs": [],
   "source": [
    "# modeling_function(poop, correct_X, correct_y, incorrect_X, incorrect_y)"
   ]
  },
  {
   "cell_type": "markdown",
   "metadata": {},
   "source": [
    "## Dropping Construction Year and Date Recorded"
   ]
  },
  {
   "cell_type": "code",
   "execution_count": 37,
   "metadata": {},
   "outputs": [],
   "source": [
    "X_data_1 = X_data.drop(columns = ['date_recorded', 'construction_year'])"
   ]
  },
  {
   "cell_type": "code",
   "execution_count": 38,
   "metadata": {},
   "outputs": [
    {
     "name": "stderr",
     "output_type": "stream",
     "text": [
      "/Applications/Utilities/anaconda3/lib/python3.8/site-packages/xgboost/sklearn.py:888: UserWarning: The use of label encoder in XGBClassifier is deprecated and will be removed in a future release. To remove this warning, do the following: 1) Pass option use_label_encoder=False when constructing XGBClassifier object; and 2) Encode your labels (y) as integers starting with 0, i.e. 0, 1, 2, ..., [num_class - 1].\n",
      "  warnings.warn(label_encoder_deprecation_msg, UserWarning)\n",
      "/Applications/Utilities/anaconda3/lib/python3.8/site-packages/xgboost/sklearn.py:888: UserWarning: The use of label encoder in XGBClassifier is deprecated and will be removed in a future release. To remove this warning, do the following: 1) Pass option use_label_encoder=False when constructing XGBClassifier object; and 2) Encode your labels (y) as integers starting with 0, i.e. 0, 1, 2, ..., [num_class - 1].\n",
      "  warnings.warn(label_encoder_deprecation_msg, UserWarning)\n"
     ]
    },
    {
     "data": {
      "text/html": [
       "<div>\n",
       "<style scoped>\n",
       "    .dataframe tbody tr th:only-of-type {\n",
       "        vertical-align: middle;\n",
       "    }\n",
       "\n",
       "    .dataframe tbody tr th {\n",
       "        vertical-align: top;\n",
       "    }\n",
       "\n",
       "    .dataframe thead th {\n",
       "        text-align: right;\n",
       "    }\n",
       "</style>\n",
       "<table border=\"1\" class=\"dataframe\">\n",
       "  <thead>\n",
       "    <tr style=\"text-align: right;\">\n",
       "      <th></th>\n",
       "      <th>f1 score</th>\n",
       "      <th>accuracy_score</th>\n",
       "      <th>Notes</th>\n",
       "    </tr>\n",
       "  </thead>\n",
       "  <tbody>\n",
       "    <tr>\n",
       "      <th>0</th>\n",
       "      <td>0.825515</td>\n",
       "      <td>0.800606</td>\n",
       "      <td>Base model with standard feature engineering</td>\n",
       "    </tr>\n",
       "    <tr>\n",
       "      <th>1</th>\n",
       "      <td>0.824264</td>\n",
       "      <td>0.798608</td>\n",
       "      <td>Removed Date Recorded and Construction Year</td>\n",
       "    </tr>\n",
       "  </tbody>\n",
       "</table>\n",
       "</div>"
      ],
      "text/plain": [
       "   f1 score  accuracy_score                                         Notes\n",
       "0  0.825515        0.800606  Base model with standard feature engineering\n",
       "1  0.824264        0.798608   Removed Date Recorded and Construction Year"
      ]
     },
     "execution_count": 38,
     "metadata": {},
     "output_type": "execute_result"
    }
   ],
   "source": [
    "rf_tester.model_history(X_data_1, notes='Removed Date Recorded and Construction Year')\n",
    "xgb_tester.model_history(X_data_1, notes='Removed Date Recorded and Construction Year')"
   ]
  },
  {
   "cell_type": "markdown",
   "metadata": {},
   "source": [
    "## Dropping just Construction Year"
   ]
  },
  {
   "cell_type": "code",
   "execution_count": 39,
   "metadata": {},
   "outputs": [],
   "source": [
    "X_data_2 = X_data.drop(columns = 'construction_year')"
   ]
  },
  {
   "cell_type": "code",
   "execution_count": 40,
   "metadata": {},
   "outputs": [
    {
     "name": "stderr",
     "output_type": "stream",
     "text": [
      "/Applications/Utilities/anaconda3/lib/python3.8/site-packages/xgboost/sklearn.py:888: UserWarning: The use of label encoder in XGBClassifier is deprecated and will be removed in a future release. To remove this warning, do the following: 1) Pass option use_label_encoder=False when constructing XGBClassifier object; and 2) Encode your labels (y) as integers starting with 0, i.e. 0, 1, 2, ..., [num_class - 1].\n",
      "  warnings.warn(label_encoder_deprecation_msg, UserWarning)\n",
      "/Applications/Utilities/anaconda3/lib/python3.8/site-packages/xgboost/sklearn.py:888: UserWarning: The use of label encoder in XGBClassifier is deprecated and will be removed in a future release. To remove this warning, do the following: 1) Pass option use_label_encoder=False when constructing XGBClassifier object; and 2) Encode your labels (y) as integers starting with 0, i.e. 0, 1, 2, ..., [num_class - 1].\n",
      "  warnings.warn(label_encoder_deprecation_msg, UserWarning)\n"
     ]
    },
    {
     "data": {
      "text/html": [
       "<div>\n",
       "<style scoped>\n",
       "    .dataframe tbody tr th:only-of-type {\n",
       "        vertical-align: middle;\n",
       "    }\n",
       "\n",
       "    .dataframe tbody tr th {\n",
       "        vertical-align: top;\n",
       "    }\n",
       "\n",
       "    .dataframe thead th {\n",
       "        text-align: right;\n",
       "    }\n",
       "</style>\n",
       "<table border=\"1\" class=\"dataframe\">\n",
       "  <thead>\n",
       "    <tr style=\"text-align: right;\">\n",
       "      <th></th>\n",
       "      <th>f1 score</th>\n",
       "      <th>accuracy_score</th>\n",
       "      <th>Notes</th>\n",
       "    </tr>\n",
       "  </thead>\n",
       "  <tbody>\n",
       "    <tr>\n",
       "      <th>0</th>\n",
       "      <td>0.825515</td>\n",
       "      <td>0.800606</td>\n",
       "      <td>Base model with standard feature engineering</td>\n",
       "    </tr>\n",
       "    <tr>\n",
       "      <th>1</th>\n",
       "      <td>0.824264</td>\n",
       "      <td>0.798608</td>\n",
       "      <td>Removed Date Recorded and Construction Year</td>\n",
       "    </tr>\n",
       "    <tr>\n",
       "      <th>2</th>\n",
       "      <td>0.824365</td>\n",
       "      <td>0.798855</td>\n",
       "      <td>Removed Construction Year</td>\n",
       "    </tr>\n",
       "  </tbody>\n",
       "</table>\n",
       "</div>"
      ],
      "text/plain": [
       "   f1 score  accuracy_score                                         Notes\n",
       "0  0.825515        0.800606  Base model with standard feature engineering\n",
       "1  0.824264        0.798608   Removed Date Recorded and Construction Year\n",
       "2  0.824365        0.798855                     Removed Construction Year"
      ]
     },
     "execution_count": 40,
     "metadata": {},
     "output_type": "execute_result"
    }
   ],
   "source": [
    "rf_tester.model_history(X_data_2, notes='Removed Construction Year')\n",
    "xgb_tester.model_history(X_data_2, notes='Removed Construction Year')"
   ]
  },
  {
   "cell_type": "markdown",
   "metadata": {},
   "source": [
    "## Dropping Basin Data"
   ]
  },
  {
   "cell_type": "code",
   "execution_count": 41,
   "metadata": {},
   "outputs": [],
   "source": [
    "X_data_3 = remove_column('basin')"
   ]
  },
  {
   "cell_type": "code",
   "execution_count": 42,
   "metadata": {},
   "outputs": [
    {
     "name": "stderr",
     "output_type": "stream",
     "text": [
      "/Applications/Utilities/anaconda3/lib/python3.8/site-packages/xgboost/sklearn.py:888: UserWarning: The use of label encoder in XGBClassifier is deprecated and will be removed in a future release. To remove this warning, do the following: 1) Pass option use_label_encoder=False when constructing XGBClassifier object; and 2) Encode your labels (y) as integers starting with 0, i.e. 0, 1, 2, ..., [num_class - 1].\n",
      "  warnings.warn(label_encoder_deprecation_msg, UserWarning)\n",
      "/Applications/Utilities/anaconda3/lib/python3.8/site-packages/xgboost/sklearn.py:888: UserWarning: The use of label encoder in XGBClassifier is deprecated and will be removed in a future release. To remove this warning, do the following: 1) Pass option use_label_encoder=False when constructing XGBClassifier object; and 2) Encode your labels (y) as integers starting with 0, i.e. 0, 1, 2, ..., [num_class - 1].\n",
      "  warnings.warn(label_encoder_deprecation_msg, UserWarning)\n"
     ]
    },
    {
     "data": {
      "text/html": [
       "<div>\n",
       "<style scoped>\n",
       "    .dataframe tbody tr th:only-of-type {\n",
       "        vertical-align: middle;\n",
       "    }\n",
       "\n",
       "    .dataframe tbody tr th {\n",
       "        vertical-align: top;\n",
       "    }\n",
       "\n",
       "    .dataframe thead th {\n",
       "        text-align: right;\n",
       "    }\n",
       "</style>\n",
       "<table border=\"1\" class=\"dataframe\">\n",
       "  <thead>\n",
       "    <tr style=\"text-align: right;\">\n",
       "      <th></th>\n",
       "      <th>f1 score</th>\n",
       "      <th>accuracy_score</th>\n",
       "      <th>Notes</th>\n",
       "    </tr>\n",
       "  </thead>\n",
       "  <tbody>\n",
       "    <tr>\n",
       "      <th>0</th>\n",
       "      <td>0.825515</td>\n",
       "      <td>0.800606</td>\n",
       "      <td>Base model with standard feature engineering</td>\n",
       "    </tr>\n",
       "    <tr>\n",
       "      <th>1</th>\n",
       "      <td>0.824264</td>\n",
       "      <td>0.798608</td>\n",
       "      <td>Removed Date Recorded and Construction Year</td>\n",
       "    </tr>\n",
       "    <tr>\n",
       "      <th>2</th>\n",
       "      <td>0.824365</td>\n",
       "      <td>0.798855</td>\n",
       "      <td>Removed Construction Year</td>\n",
       "    </tr>\n",
       "    <tr>\n",
       "      <th>3</th>\n",
       "      <td>0.823611</td>\n",
       "      <td>0.797621</td>\n",
       "      <td>Removed basin column</td>\n",
       "    </tr>\n",
       "  </tbody>\n",
       "</table>\n",
       "</div>"
      ],
      "text/plain": [
       "   f1 score  accuracy_score                                         Notes\n",
       "0  0.825515        0.800606  Base model with standard feature engineering\n",
       "1  0.824264        0.798608   Removed Date Recorded and Construction Year\n",
       "2  0.824365        0.798855                     Removed Construction Year\n",
       "3  0.823611        0.797621                          Removed basin column"
      ]
     },
     "execution_count": 42,
     "metadata": {},
     "output_type": "execute_result"
    }
   ],
   "source": [
    "rf_tester.model_history(X_data_3, notes='Removed basin column')\n",
    "xgb_tester.model_history(X_data_3, notes='Removed basin column')"
   ]
  },
  {
   "cell_type": "markdown",
   "metadata": {},
   "source": [
    "## Being more specific with extraction type"
   ]
  },
  {
   "cell_type": "code",
   "execution_count": 43,
   "metadata": {},
   "outputs": [],
   "source": [
    "X_data_4_raw = X_data.copy()\n",
    "X_data_4_col = X[['extraction_type']].iloc[X_data.index]"
   ]
  },
  {
   "cell_type": "code",
   "execution_count": 44,
   "metadata": {},
   "outputs": [],
   "source": [
    "ohe2 = OneHotEncoder(sparse=False)\n",
    "ohe2.fit(X_data_4_col)\n",
    "X_data_4_ohe = pd.DataFrame(ohe2.transform(X_data_4_col), columns = ohe2.get_feature_names(input_features = X_data_4_col.columns))\n",
    "X_data_4_old = pd.concat((X_data_4_raw.reset_index(), X_data_4_ohe.reset_index()), axis=1)"
   ]
  },
  {
   "cell_type": "code",
   "execution_count": 45,
   "metadata": {},
   "outputs": [],
   "source": [
    "ex_group_remove_list = []\n",
    "for x in X_data_4_old.columns:\n",
    "    if 'extraction_type_group_' in x:\n",
    "        ex_group_remove_list.append(x)\n",
    "X_data_4 = X_data_4_old.drop(columns = ex_group_remove_list)"
   ]
  },
  {
   "cell_type": "code",
   "execution_count": 46,
   "metadata": {},
   "outputs": [
    {
     "data": {
      "text/html": [
       "<div>\n",
       "<style scoped>\n",
       "    .dataframe tbody tr th:only-of-type {\n",
       "        vertical-align: middle;\n",
       "    }\n",
       "\n",
       "    .dataframe tbody tr th {\n",
       "        vertical-align: top;\n",
       "    }\n",
       "\n",
       "    .dataframe thead th {\n",
       "        text-align: right;\n",
       "    }\n",
       "</style>\n",
       "<table border=\"1\" class=\"dataframe\">\n",
       "  <thead>\n",
       "    <tr style=\"text-align: right;\">\n",
       "      <th></th>\n",
       "      <th>f1 score</th>\n",
       "      <th>accuracy_score</th>\n",
       "      <th>Notes</th>\n",
       "    </tr>\n",
       "  </thead>\n",
       "  <tbody>\n",
       "    <tr>\n",
       "      <th>0</th>\n",
       "      <td>0.827040</td>\n",
       "      <td>0.797262</td>\n",
       "      <td>Base model with standard feature engineering</td>\n",
       "    </tr>\n",
       "    <tr>\n",
       "      <th>1</th>\n",
       "      <td>0.826764</td>\n",
       "      <td>0.796431</td>\n",
       "      <td>Removed Date Recorded and Construction Year</td>\n",
       "    </tr>\n",
       "    <tr>\n",
       "      <th>2</th>\n",
       "      <td>0.826684</td>\n",
       "      <td>0.795578</td>\n",
       "      <td>Removed Construction Year</td>\n",
       "    </tr>\n",
       "    <tr>\n",
       "      <th>3</th>\n",
       "      <td>0.826273</td>\n",
       "      <td>0.795735</td>\n",
       "      <td>Removed basin column</td>\n",
       "    </tr>\n",
       "    <tr>\n",
       "      <th>4</th>\n",
       "      <td>0.765611</td>\n",
       "      <td>0.754411</td>\n",
       "      <td>Replaced Extraction Group with Extraction Type</td>\n",
       "    </tr>\n",
       "  </tbody>\n",
       "</table>\n",
       "</div>"
      ],
      "text/plain": [
       "   f1 score  accuracy_score                                           Notes\n",
       "0  0.827040        0.797262    Base model with standard feature engineering\n",
       "1  0.826764        0.796431     Removed Date Recorded and Construction Year\n",
       "2  0.826684        0.795578                       Removed Construction Year\n",
       "3  0.826273        0.795735                            Removed basin column\n",
       "4  0.765611        0.754411  Replaced Extraction Group with Extraction Type"
      ]
     },
     "execution_count": 46,
     "metadata": {},
     "output_type": "execute_result"
    }
   ],
   "source": [
    "rf_tester.model_history(X_data_4, notes='Replaced Extraction Group with Extraction Type')"
   ]
  },
  {
   "cell_type": "markdown",
   "metadata": {},
   "source": [
    "## Dropping the first row of each encoded variable"
   ]
  },
  {
   "cell_type": "code",
   "execution_count": 47,
   "metadata": {},
   "outputs": [],
   "source": [
    "ohe3 = OneHotEncoder(sparse=False, drop='first')\n",
    "ohe3.fit(X_cats)\n",
    "X_5_cats_ohe = pd.DataFrame(ohe3.transform(X_cats), columns = ohe3.get_feature_names(input_features = X_cats.columns))"
   ]
  },
  {
   "cell_type": "code",
   "execution_count": 48,
   "metadata": {},
   "outputs": [],
   "source": [
    "X_data_5 = pd.concat((X_nums_scaled, X_5_cats_ohe), axis=1)"
   ]
  },
  {
   "cell_type": "code",
   "execution_count": 49,
   "metadata": {},
   "outputs": [
    {
     "name": "stderr",
     "output_type": "stream",
     "text": [
      "/Applications/Utilities/anaconda3/lib/python3.8/site-packages/xgboost/sklearn.py:888: UserWarning: The use of label encoder in XGBClassifier is deprecated and will be removed in a future release. To remove this warning, do the following: 1) Pass option use_label_encoder=False when constructing XGBClassifier object; and 2) Encode your labels (y) as integers starting with 0, i.e. 0, 1, 2, ..., [num_class - 1].\n",
      "  warnings.warn(label_encoder_deprecation_msg, UserWarning)\n",
      "/Applications/Utilities/anaconda3/lib/python3.8/site-packages/xgboost/sklearn.py:888: UserWarning: The use of label encoder in XGBClassifier is deprecated and will be removed in a future release. To remove this warning, do the following: 1) Pass option use_label_encoder=False when constructing XGBClassifier object; and 2) Encode your labels (y) as integers starting with 0, i.e. 0, 1, 2, ..., [num_class - 1].\n",
      "  warnings.warn(label_encoder_deprecation_msg, UserWarning)\n"
     ]
    },
    {
     "data": {
      "text/html": [
       "<div>\n",
       "<style scoped>\n",
       "    .dataframe tbody tr th:only-of-type {\n",
       "        vertical-align: middle;\n",
       "    }\n",
       "\n",
       "    .dataframe tbody tr th {\n",
       "        vertical-align: top;\n",
       "    }\n",
       "\n",
       "    .dataframe thead th {\n",
       "        text-align: right;\n",
       "    }\n",
       "</style>\n",
       "<table border=\"1\" class=\"dataframe\">\n",
       "  <thead>\n",
       "    <tr style=\"text-align: right;\">\n",
       "      <th></th>\n",
       "      <th>f1 score</th>\n",
       "      <th>accuracy_score</th>\n",
       "      <th>Notes</th>\n",
       "    </tr>\n",
       "  </thead>\n",
       "  <tbody>\n",
       "    <tr>\n",
       "      <th>0</th>\n",
       "      <td>0.825515</td>\n",
       "      <td>0.800606</td>\n",
       "      <td>Base model with standard feature engineering</td>\n",
       "    </tr>\n",
       "    <tr>\n",
       "      <th>1</th>\n",
       "      <td>0.824264</td>\n",
       "      <td>0.798608</td>\n",
       "      <td>Removed Date Recorded and Construction Year</td>\n",
       "    </tr>\n",
       "    <tr>\n",
       "      <th>2</th>\n",
       "      <td>0.824365</td>\n",
       "      <td>0.798855</td>\n",
       "      <td>Removed Construction Year</td>\n",
       "    </tr>\n",
       "    <tr>\n",
       "      <th>3</th>\n",
       "      <td>0.823611</td>\n",
       "      <td>0.797621</td>\n",
       "      <td>Removed basin column</td>\n",
       "    </tr>\n",
       "    <tr>\n",
       "      <th>4</th>\n",
       "      <td>0.822633</td>\n",
       "      <td>0.796813</td>\n",
       "      <td>Dropped first columns for OHE'd features</td>\n",
       "    </tr>\n",
       "  </tbody>\n",
       "</table>\n",
       "</div>"
      ],
      "text/plain": [
       "   f1 score  accuracy_score                                         Notes\n",
       "0  0.825515        0.800606  Base model with standard feature engineering\n",
       "1  0.824264        0.798608   Removed Date Recorded and Construction Year\n",
       "2  0.824365        0.798855                     Removed Construction Year\n",
       "3  0.823611        0.797621                          Removed basin column\n",
       "4  0.822633        0.796813      Dropped first columns for OHE'd features"
      ]
     },
     "execution_count": 49,
     "metadata": {},
     "output_type": "execute_result"
    }
   ],
   "source": [
    "rf_tester.model_history(X_data_5, notes = \"Dropped first columns for OHE'd features\")\n",
    "xgb_tester.model_history(X_data_5, notes = \"Dropped first columns for OHE'd features\")"
   ]
  },
  {
   "cell_type": "markdown",
   "metadata": {},
   "source": [
    "## Dropping Age"
   ]
  },
  {
   "cell_type": "code",
   "execution_count": 50,
   "metadata": {},
   "outputs": [],
   "source": [
    "X_data_6 = X_data.drop(columns = 'age')"
   ]
  },
  {
   "cell_type": "code",
   "execution_count": 51,
   "metadata": {},
   "outputs": [
    {
     "name": "stderr",
     "output_type": "stream",
     "text": [
      "/Applications/Utilities/anaconda3/lib/python3.8/site-packages/xgboost/sklearn.py:888: UserWarning: The use of label encoder in XGBClassifier is deprecated and will be removed in a future release. To remove this warning, do the following: 1) Pass option use_label_encoder=False when constructing XGBClassifier object; and 2) Encode your labels (y) as integers starting with 0, i.e. 0, 1, 2, ..., [num_class - 1].\n",
      "  warnings.warn(label_encoder_deprecation_msg, UserWarning)\n",
      "/Applications/Utilities/anaconda3/lib/python3.8/site-packages/xgboost/sklearn.py:888: UserWarning: The use of label encoder in XGBClassifier is deprecated and will be removed in a future release. To remove this warning, do the following: 1) Pass option use_label_encoder=False when constructing XGBClassifier object; and 2) Encode your labels (y) as integers starting with 0, i.e. 0, 1, 2, ..., [num_class - 1].\n",
      "  warnings.warn(label_encoder_deprecation_msg, UserWarning)\n"
     ]
    },
    {
     "data": {
      "text/html": [
       "<div>\n",
       "<style scoped>\n",
       "    .dataframe tbody tr th:only-of-type {\n",
       "        vertical-align: middle;\n",
       "    }\n",
       "\n",
       "    .dataframe tbody tr th {\n",
       "        vertical-align: top;\n",
       "    }\n",
       "\n",
       "    .dataframe thead th {\n",
       "        text-align: right;\n",
       "    }\n",
       "</style>\n",
       "<table border=\"1\" class=\"dataframe\">\n",
       "  <thead>\n",
       "    <tr style=\"text-align: right;\">\n",
       "      <th></th>\n",
       "      <th>f1 score</th>\n",
       "      <th>accuracy_score</th>\n",
       "      <th>Notes</th>\n",
       "    </tr>\n",
       "  </thead>\n",
       "  <tbody>\n",
       "    <tr>\n",
       "      <th>0</th>\n",
       "      <td>0.825515</td>\n",
       "      <td>0.800606</td>\n",
       "      <td>Base model with standard feature engineering</td>\n",
       "    </tr>\n",
       "    <tr>\n",
       "      <th>1</th>\n",
       "      <td>0.824264</td>\n",
       "      <td>0.798608</td>\n",
       "      <td>Removed Date Recorded and Construction Year</td>\n",
       "    </tr>\n",
       "    <tr>\n",
       "      <th>2</th>\n",
       "      <td>0.824365</td>\n",
       "      <td>0.798855</td>\n",
       "      <td>Removed Construction Year</td>\n",
       "    </tr>\n",
       "    <tr>\n",
       "      <th>3</th>\n",
       "      <td>0.823611</td>\n",
       "      <td>0.797621</td>\n",
       "      <td>Removed basin column</td>\n",
       "    </tr>\n",
       "    <tr>\n",
       "      <th>4</th>\n",
       "      <td>0.822633</td>\n",
       "      <td>0.796813</td>\n",
       "      <td>Dropped first columns for OHE'd features</td>\n",
       "    </tr>\n",
       "    <tr>\n",
       "      <th>5</th>\n",
       "      <td>0.822372</td>\n",
       "      <td>0.796790</td>\n",
       "      <td>Dropped Age</td>\n",
       "    </tr>\n",
       "  </tbody>\n",
       "</table>\n",
       "</div>"
      ],
      "text/plain": [
       "   f1 score  accuracy_score                                         Notes\n",
       "0  0.825515        0.800606  Base model with standard feature engineering\n",
       "1  0.824264        0.798608   Removed Date Recorded and Construction Year\n",
       "2  0.824365        0.798855                     Removed Construction Year\n",
       "3  0.823611        0.797621                          Removed basin column\n",
       "4  0.822633        0.796813      Dropped first columns for OHE'd features\n",
       "5  0.822372        0.796790                                   Dropped Age"
      ]
     },
     "execution_count": 51,
     "metadata": {},
     "output_type": "execute_result"
    }
   ],
   "source": [
    "rf_tester.model_history(X_data_6, notes = 'Dropped Age')\n",
    "xgb_tester.model_history(X_data_6, notes = 'Dropped Age')"
   ]
  },
  {
   "cell_type": "markdown",
   "metadata": {},
   "source": [
    "# Using Feature Permutation"
   ]
  },
  {
   "cell_type": "markdown",
   "metadata": {},
   "source": [
    "## Dropping All Columns with an error under 0.01 (80 cols)"
   ]
  },
  {
   "cell_type": "code",
   "execution_count": 52,
   "metadata": {},
   "outputs": [],
   "source": [
    "X_train, X_test, y_train, y_test = train_test_split(X_data, y, random_state=1)"
   ]
  },
  {
   "cell_type": "code",
   "execution_count": 53,
   "metadata": {},
   "outputs": [],
   "source": [
    "y_train = np.array(y_train).ravel()"
   ]
  },
  {
   "cell_type": "code",
   "execution_count": 54,
   "metadata": {},
   "outputs": [
    {
     "name": "stderr",
     "output_type": "stream",
     "text": [
      "/Applications/Utilities/anaconda3/lib/python3.8/site-packages/xgboost/sklearn.py:888: UserWarning: The use of label encoder in XGBClassifier is deprecated and will be removed in a future release. To remove this warning, do the following: 1) Pass option use_label_encoder=False when constructing XGBClassifier object; and 2) Encode your labels (y) as integers starting with 0, i.e. 0, 1, 2, ..., [num_class - 1].\n",
      "  warnings.warn(label_encoder_deprecation_msg, UserWarning)\n"
     ]
    },
    {
     "data": {
      "text/plain": [
       "XGBClassifier(base_score=0.5, booster='gbtree', colsample_bylevel=1,\n",
       "              colsample_bynode=1, colsample_bytree=1, eta=0.295, gamma=0.5,\n",
       "              gpu_id=-1, importance_type='gain', interaction_constraints='',\n",
       "              learning_rate=0.294999987, max_delta_step=0, max_depth=8,\n",
       "              min_child_weight=1, missing=nan, monotone_constraints='()',\n",
       "              n_estimators=100, n_jobs=4, num_parallel_tree=1, random_state=0,\n",
       "              reg_alpha=0, reg_lambda=1, scale_pos_weight=1, subsample=1,\n",
       "              tree_method='hist', validate_parameters=1, verbosity=0)"
      ]
     },
     "execution_count": 54,
     "metadata": {},
     "output_type": "execute_result"
    }
   ],
   "source": [
    "rf_2.fit(X_train, y_train)\n",
    "xgb.fit(X_train, y_train)"
   ]
  },
  {
   "cell_type": "code",
   "execution_count": 55,
   "metadata": {},
   "outputs": [],
   "source": [
    "from sklearn.inspection import permutation_importance"
   ]
  },
  {
   "cell_type": "code",
   "execution_count": 56,
   "metadata": {},
   "outputs": [],
   "source": [
    "perm_result_rf = permutation_importance(rf_2, X_train, y_train, n_repeats=1, random_state=1, scoring ='f1')\n",
    "perm_result_xgb = permutation_importance(xgb, X_train, y_train, n_repeats=1, random_state=1, scoring ='f1')"
   ]
  },
  {
   "cell_type": "code",
   "execution_count": 220,
   "metadata": {},
   "outputs": [
    {
     "data": {
      "image/png": "[encoded data removed]",
      "text/plain": [
       "<Figure size 864x432 with 1 Axes>"
      ]
     },
     "metadata": {},
     "output_type": "display_data"
    }
   ],
   "source": [
    "f_importance_rf = sorted(list(zip(X_train.columns, perm_result_rf.importances.ravel())), key=lambda x: x[1])[81:]\n",
    "x_ax = [_[0] for _ in f_importance_rf]\n",
    "y_ax = [_[1] for _ in f_importance_rf]\n",
    "\n",
    "fig, ax = plt.subplots(figsize=(12,6))\n",
    "sns.barplot(x_ax, y_ax, palette='autumn_r')\n",
    "plt.xticks(rotation=45)\n",
    "ax.set_ylabel('FP Score', fontsize=15)\n",
    "ax.set_title('Feature Importance', fontsize=20)\n",
    "ax.set_xticklabels(['Extraction Type', 'Population', 'Cost of Use', \n",
    "                 'Avaliable Water', 'Construction Year', 'Altitude', 'Age', \n",
    "                 'Waterpoint Type', 'Quantity', 'Quality'], fontdict={'fontsize':12});\n",
    "\n",
    "plt.savefig('../../../data/Feature_Importance_Graph.png')"
   ]
  },
  {
   "cell_type": "code",
   "execution_count": 118,
   "metadata": {},
   "outputs": [
    {
     "data": {
      "image/png": "[encoded data removed]",
      "text/plain": [
       "<Figure size 1080x432 with 1 Axes>"
      ]
     },
     "metadata": {
      "needs_background": "light"
     },
     "output_type": "display_data"
    }
   ],
   "source": [
    "f_importance_xgb = sorted(list(zip(X_train.columns, perm_result_xgb.importances.ravel())), key=lambda x: x[1])\n",
    "x_ax = [_[0] for _ in f_importance_xgb]\n",
    "y_ax = [_[1] for _ in f_importance_xgb]\n",
    "\n",
    "plt.figure(figsize=(15,6))\n",
    "sns.barplot(x_ax, y_ax)\n",
    "plt.xticks(rotation=90);"
   ]
  },
  {
   "cell_type": "code",
   "execution_count": 59,
   "metadata": {},
   "outputs": [],
   "source": [
    "f_imp_df_rf = pd.DataFrame(f_importance_rf)\n",
    "f_imp_df_xgb = pd.DataFrame(f_importance_xgb)"
   ]
  },
  {
   "cell_type": "code",
   "execution_count": 60,
   "metadata": {},
   "outputs": [],
   "source": [
    "perm_droplist_rf = list(f_imp_df_rf.loc[f_imp_df_rf[1]<0.01][0])\n",
    "perm_droplist_xgb = list(f_imp_df_xgb.loc[f_imp_df_xgb[1]<0.01][0])"
   ]
  },
  {
   "cell_type": "code",
   "execution_count": 61,
   "metadata": {},
   "outputs": [],
   "source": [
    "X_data_7_rf = X_data.drop(columns = perm_droplist_rf, axis=1)\n",
    "X_data_7_xgb = X_data.drop(columns = perm_droplist_xgb, axis=1)"
   ]
  },
  {
   "cell_type": "code",
   "execution_count": 62,
   "metadata": {},
   "outputs": [
    {
     "name": "stderr",
     "output_type": "stream",
     "text": [
      "/Applications/Utilities/anaconda3/lib/python3.8/site-packages/xgboost/sklearn.py:888: UserWarning: The use of label encoder in XGBClassifier is deprecated and will be removed in a future release. To remove this warning, do the following: 1) Pass option use_label_encoder=False when constructing XGBClassifier object; and 2) Encode your labels (y) as integers starting with 0, i.e. 0, 1, 2, ..., [num_class - 1].\n",
      "  warnings.warn(label_encoder_deprecation_msg, UserWarning)\n",
      "/Applications/Utilities/anaconda3/lib/python3.8/site-packages/xgboost/sklearn.py:888: UserWarning: The use of label encoder in XGBClassifier is deprecated and will be removed in a future release. To remove this warning, do the following: 1) Pass option use_label_encoder=False when constructing XGBClassifier object; and 2) Encode your labels (y) as integers starting with 0, i.e. 0, 1, 2, ..., [num_class - 1].\n",
      "  warnings.warn(label_encoder_deprecation_msg, UserWarning)\n"
     ]
    },
    {
     "data": {
      "text/html": [
       "<div>\n",
       "<style scoped>\n",
       "    .dataframe tbody tr th:only-of-type {\n",
       "        vertical-align: middle;\n",
       "    }\n",
       "\n",
       "    .dataframe tbody tr th {\n",
       "        vertical-align: top;\n",
       "    }\n",
       "\n",
       "    .dataframe thead th {\n",
       "        text-align: right;\n",
       "    }\n",
       "</style>\n",
       "<table border=\"1\" class=\"dataframe\">\n",
       "  <thead>\n",
       "    <tr style=\"text-align: right;\">\n",
       "      <th></th>\n",
       "      <th>f1 score</th>\n",
       "      <th>accuracy_score</th>\n",
       "      <th>Notes</th>\n",
       "    </tr>\n",
       "  </thead>\n",
       "  <tbody>\n",
       "    <tr>\n",
       "      <th>0</th>\n",
       "      <td>0.825515</td>\n",
       "      <td>0.800606</td>\n",
       "      <td>Base model with standard feature engineering</td>\n",
       "    </tr>\n",
       "    <tr>\n",
       "      <th>1</th>\n",
       "      <td>0.824264</td>\n",
       "      <td>0.798608</td>\n",
       "      <td>Removed Date Recorded and Construction Year</td>\n",
       "    </tr>\n",
       "    <tr>\n",
       "      <th>2</th>\n",
       "      <td>0.824365</td>\n",
       "      <td>0.798855</td>\n",
       "      <td>Removed Construction Year</td>\n",
       "    </tr>\n",
       "    <tr>\n",
       "      <th>3</th>\n",
       "      <td>0.823611</td>\n",
       "      <td>0.797621</td>\n",
       "      <td>Removed basin column</td>\n",
       "    </tr>\n",
       "    <tr>\n",
       "      <th>4</th>\n",
       "      <td>0.822633</td>\n",
       "      <td>0.796813</td>\n",
       "      <td>Dropped first columns for OHE'd features</td>\n",
       "    </tr>\n",
       "    <tr>\n",
       "      <th>5</th>\n",
       "      <td>0.822372</td>\n",
       "      <td>0.796790</td>\n",
       "      <td>Dropped Age</td>\n",
       "    </tr>\n",
       "    <tr>\n",
       "      <th>6</th>\n",
       "      <td>0.792793</td>\n",
       "      <td>0.752952</td>\n",
       "      <td>Dropped 81 columns with Feature Permutation</td>\n",
       "    </tr>\n",
       "  </tbody>\n",
       "</table>\n",
       "</div>"
      ],
      "text/plain": [
       "   f1 score  accuracy_score                                         Notes\n",
       "0  0.825515        0.800606  Base model with standard feature engineering\n",
       "1  0.824264        0.798608   Removed Date Recorded and Construction Year\n",
       "2  0.824365        0.798855                     Removed Construction Year\n",
       "3  0.823611        0.797621                          Removed basin column\n",
       "4  0.822633        0.796813      Dropped first columns for OHE'd features\n",
       "5  0.822372        0.796790                                   Dropped Age\n",
       "6  0.792793        0.752952   Dropped 81 columns with Feature Permutation"
      ]
     },
     "execution_count": 62,
     "metadata": {},
     "output_type": "execute_result"
    }
   ],
   "source": [
    "rf_tester.model_history(X_data_7_rf, notes='Dropped 82 columns with Feature Permutation')\n",
    "xgb_tester.model_history(X_data_7_xgb, notes='Dropped 81 columns with Feature Permutation')"
   ]
  },
  {
   "cell_type": "markdown",
   "metadata": {},
   "source": [
    "## Dropping All Negative Error"
   ]
  },
  {
   "cell_type": "code",
   "execution_count": 63,
   "metadata": {},
   "outputs": [],
   "source": [
    "perm_droplist_2_rf = list(f_imp_df_rf.loc[f_imp_df_rf[1]<0][0])"
   ]
  },
  {
   "cell_type": "code",
   "execution_count": 64,
   "metadata": {},
   "outputs": [],
   "source": [
    "X_data_8_rf = X_data.drop(columns = perm_droplist_2_rf, axis=1)"
   ]
  },
  {
   "cell_type": "code",
   "execution_count": 65,
   "metadata": {},
   "outputs": [
    {
     "data": {
      "text/html": [
       "<div>\n",
       "<style scoped>\n",
       "    .dataframe tbody tr th:only-of-type {\n",
       "        vertical-align: middle;\n",
       "    }\n",
       "\n",
       "    .dataframe tbody tr th {\n",
       "        vertical-align: top;\n",
       "    }\n",
       "\n",
       "    .dataframe thead th {\n",
       "        text-align: right;\n",
       "    }\n",
       "</style>\n",
       "<table border=\"1\" class=\"dataframe\">\n",
       "  <thead>\n",
       "    <tr style=\"text-align: right;\">\n",
       "      <th></th>\n",
       "      <th>f1 score</th>\n",
       "      <th>accuracy_score</th>\n",
       "      <th>Notes</th>\n",
       "    </tr>\n",
       "  </thead>\n",
       "  <tbody>\n",
       "    <tr>\n",
       "      <th>0</th>\n",
       "      <td>0.827040</td>\n",
       "      <td>0.797262</td>\n",
       "      <td>Base model with standard feature engineering</td>\n",
       "    </tr>\n",
       "    <tr>\n",
       "      <th>1</th>\n",
       "      <td>0.826764</td>\n",
       "      <td>0.796431</td>\n",
       "      <td>Removed Date Recorded and Construction Year</td>\n",
       "    </tr>\n",
       "    <tr>\n",
       "      <th>2</th>\n",
       "      <td>0.826684</td>\n",
       "      <td>0.795578</td>\n",
       "      <td>Removed Construction Year</td>\n",
       "    </tr>\n",
       "    <tr>\n",
       "      <th>3</th>\n",
       "      <td>0.826273</td>\n",
       "      <td>0.795735</td>\n",
       "      <td>Removed basin column</td>\n",
       "    </tr>\n",
       "    <tr>\n",
       "      <th>4</th>\n",
       "      <td>0.765611</td>\n",
       "      <td>0.754411</td>\n",
       "      <td>Replaced Extraction Group with Extraction Type</td>\n",
       "    </tr>\n",
       "    <tr>\n",
       "      <th>5</th>\n",
       "      <td>0.824732</td>\n",
       "      <td>0.796857</td>\n",
       "      <td>Dropped first columns for OHE'd features</td>\n",
       "    </tr>\n",
       "    <tr>\n",
       "      <th>6</th>\n",
       "      <td>0.826692</td>\n",
       "      <td>0.795623</td>\n",
       "      <td>Dropped Age</td>\n",
       "    </tr>\n",
       "    <tr>\n",
       "      <th>7</th>\n",
       "      <td>0.797599</td>\n",
       "      <td>0.762110</td>\n",
       "      <td>Dropped 82 columns with Feature Permutation</td>\n",
       "    </tr>\n",
       "    <tr>\n",
       "      <th>8</th>\n",
       "      <td>0.826621</td>\n",
       "      <td>0.796207</td>\n",
       "      <td>Dropped Negative Error cols w/ FP</td>\n",
       "    </tr>\n",
       "  </tbody>\n",
       "</table>\n",
       "</div>"
      ],
      "text/plain": [
       "   f1 score  accuracy_score                                           Notes\n",
       "0  0.827040        0.797262    Base model with standard feature engineering\n",
       "1  0.826764        0.796431     Removed Date Recorded and Construction Year\n",
       "2  0.826684        0.795578                       Removed Construction Year\n",
       "3  0.826273        0.795735                            Removed basin column\n",
       "4  0.765611        0.754411  Replaced Extraction Group with Extraction Type\n",
       "5  0.824732        0.796857        Dropped first columns for OHE'd features\n",
       "6  0.826692        0.795623                                     Dropped Age\n",
       "7  0.797599        0.762110     Dropped 82 columns with Feature Permutation\n",
       "8  0.826621        0.796207               Dropped Negative Error cols w/ FP"
      ]
     },
     "execution_count": 65,
     "metadata": {},
     "output_type": "execute_result"
    }
   ],
   "source": [
    "rf_tester.model_history(X_data_8_rf, notes='Dropped Negative Error cols w/ FP')"
   ]
  },
  {
   "cell_type": "markdown",
   "metadata": {},
   "source": [
    "## Dropping all columns with a FP score under 0.001"
   ]
  },
  {
   "cell_type": "code",
   "execution_count": 68,
   "metadata": {},
   "outputs": [],
   "source": [
    "perm_droplist_3_rf = list(f_imp_df_rf.loc[f_imp_df_rf[1]<0.001][0])\n",
    "perm_droplist_3_xgb = list(f_imp_df_xgb.loc[f_imp_df_xgb[1]<0.001][0])"
   ]
  },
  {
   "cell_type": "code",
   "execution_count": 69,
   "metadata": {},
   "outputs": [],
   "source": [
    "X_data_9_rf = X_data.drop(columns = perm_droplist_3_rf, axis=1)\n",
    "X_data_9_xgb = X_data.drop(columns = perm_droplist_3_xgb, axis=1)"
   ]
  },
  {
   "cell_type": "code",
   "execution_count": 70,
   "metadata": {},
   "outputs": [
    {
     "name": "stderr",
     "output_type": "stream",
     "text": [
      "/Applications/Utilities/anaconda3/lib/python3.8/site-packages/xgboost/sklearn.py:888: UserWarning: The use of label encoder in XGBClassifier is deprecated and will be removed in a future release. To remove this warning, do the following: 1) Pass option use_label_encoder=False when constructing XGBClassifier object; and 2) Encode your labels (y) as integers starting with 0, i.e. 0, 1, 2, ..., [num_class - 1].\n",
      "  warnings.warn(label_encoder_deprecation_msg, UserWarning)\n",
      "/Applications/Utilities/anaconda3/lib/python3.8/site-packages/xgboost/sklearn.py:888: UserWarning: The use of label encoder in XGBClassifier is deprecated and will be removed in a future release. To remove this warning, do the following: 1) Pass option use_label_encoder=False when constructing XGBClassifier object; and 2) Encode your labels (y) as integers starting with 0, i.e. 0, 1, 2, ..., [num_class - 1].\n",
      "  warnings.warn(label_encoder_deprecation_msg, UserWarning)\n"
     ]
    },
    {
     "data": {
      "text/html": [
       "<div>\n",
       "<style scoped>\n",
       "    .dataframe tbody tr th:only-of-type {\n",
       "        vertical-align: middle;\n",
       "    }\n",
       "\n",
       "    .dataframe tbody tr th {\n",
       "        vertical-align: top;\n",
       "    }\n",
       "\n",
       "    .dataframe thead th {\n",
       "        text-align: right;\n",
       "    }\n",
       "</style>\n",
       "<table border=\"1\" class=\"dataframe\">\n",
       "  <thead>\n",
       "    <tr style=\"text-align: right;\">\n",
       "      <th></th>\n",
       "      <th>f1 score</th>\n",
       "      <th>accuracy_score</th>\n",
       "      <th>Notes</th>\n",
       "    </tr>\n",
       "  </thead>\n",
       "  <tbody>\n",
       "    <tr>\n",
       "      <th>0</th>\n",
       "      <td>0.825515</td>\n",
       "      <td>0.800606</td>\n",
       "      <td>Base model with standard feature engineering</td>\n",
       "    </tr>\n",
       "    <tr>\n",
       "      <th>1</th>\n",
       "      <td>0.824264</td>\n",
       "      <td>0.798608</td>\n",
       "      <td>Removed Date Recorded and Construction Year</td>\n",
       "    </tr>\n",
       "    <tr>\n",
       "      <th>2</th>\n",
       "      <td>0.824365</td>\n",
       "      <td>0.798855</td>\n",
       "      <td>Removed Construction Year</td>\n",
       "    </tr>\n",
       "    <tr>\n",
       "      <th>3</th>\n",
       "      <td>0.823611</td>\n",
       "      <td>0.797621</td>\n",
       "      <td>Removed basin column</td>\n",
       "    </tr>\n",
       "    <tr>\n",
       "      <th>4</th>\n",
       "      <td>0.822633</td>\n",
       "      <td>0.796813</td>\n",
       "      <td>Dropped first columns for OHE'd features</td>\n",
       "    </tr>\n",
       "    <tr>\n",
       "      <th>5</th>\n",
       "      <td>0.822372</td>\n",
       "      <td>0.796790</td>\n",
       "      <td>Dropped Age</td>\n",
       "    </tr>\n",
       "    <tr>\n",
       "      <th>6</th>\n",
       "      <td>0.792793</td>\n",
       "      <td>0.752952</td>\n",
       "      <td>Dropped 81 columns with Feature Permutation</td>\n",
       "    </tr>\n",
       "    <tr>\n",
       "      <th>7</th>\n",
       "      <td>0.823631</td>\n",
       "      <td>0.798563</td>\n",
       "      <td>Dropped all columns with a FP score under 0.001</td>\n",
       "    </tr>\n",
       "  </tbody>\n",
       "</table>\n",
       "</div>"
      ],
      "text/plain": [
       "   f1 score  accuracy_score                                            Notes\n",
       "0  0.825515        0.800606     Base model with standard feature engineering\n",
       "1  0.824264        0.798608      Removed Date Recorded and Construction Year\n",
       "2  0.824365        0.798855                        Removed Construction Year\n",
       "3  0.823611        0.797621                             Removed basin column\n",
       "4  0.822633        0.796813         Dropped first columns for OHE'd features\n",
       "5  0.822372        0.796790                                      Dropped Age\n",
       "6  0.792793        0.752952      Dropped 81 columns with Feature Permutation\n",
       "7  0.823631        0.798563  Dropped all columns with a FP score under 0.001"
      ]
     },
     "execution_count": 70,
     "metadata": {},
     "output_type": "execute_result"
    }
   ],
   "source": [
    "rf_tester.model_history(X_data_9_rf, notes = 'Dropped all columns with a FP score under 0.001')\n",
    "xgb_tester.model_history(X_data_9_xgb, notes = 'Dropped all columns with a FP score under 0.001')"
   ]
  },
  {
   "cell_type": "markdown",
   "metadata": {},
   "source": [
    "## SMOTE-ing in more data"
   ]
  },
  {
   "cell_type": "code",
   "execution_count": 71,
   "metadata": {},
   "outputs": [],
   "source": [
    "from imblearn.over_sampling import SMOTE"
   ]
  },
  {
   "cell_type": "code",
   "execution_count": 72,
   "metadata": {},
   "outputs": [],
   "source": [
    "smote = SMOTE(random_state=1)\n",
    "X_data_10, y_data_10 = smote.fit_sample(X_data, y)"
   ]
  },
  {
   "cell_type": "code",
   "execution_count": 73,
   "metadata": {},
   "outputs": [
    {
     "name": "stderr",
     "output_type": "stream",
     "text": [
      "/Applications/Utilities/anaconda3/lib/python3.8/site-packages/sklearn/model_selection/_validation.py:531: DataConversionWarning: A column-vector y was passed when a 1d array was expected. Please change the shape of y to (n_samples,), for example using ravel().\n",
      "  estimator.fit(X_train, y_train, **fit_params)\n",
      "/Applications/Utilities/anaconda3/lib/python3.8/site-packages/sklearn/model_selection/_validation.py:531: DataConversionWarning: A column-vector y was passed when a 1d array was expected. Please change the shape of y to (n_samples,), for example using ravel().\n",
      "  estimator.fit(X_train, y_train, **fit_params)\n",
      "/Applications/Utilities/anaconda3/lib/python3.8/site-packages/sklearn/model_selection/_validation.py:531: DataConversionWarning: A column-vector y was passed when a 1d array was expected. Please change the shape of y to (n_samples,), for example using ravel().\n",
      "  estimator.fit(X_train, y_train, **fit_params)\n",
      "/Applications/Utilities/anaconda3/lib/python3.8/site-packages/sklearn/model_selection/_validation.py:531: DataConversionWarning: A column-vector y was passed when a 1d array was expected. Please change the shape of y to (n_samples,), for example using ravel().\n",
      "  estimator.fit(X_train, y_train, **fit_params)\n",
      "/Applications/Utilities/anaconda3/lib/python3.8/site-packages/sklearn/model_selection/_validation.py:531: DataConversionWarning: A column-vector y was passed when a 1d array was expected. Please change the shape of y to (n_samples,), for example using ravel().\n",
      "  estimator.fit(X_train, y_train, **fit_params)\n",
      "/Applications/Utilities/anaconda3/lib/python3.8/site-packages/sklearn/model_selection/_validation.py:531: DataConversionWarning: A column-vector y was passed when a 1d array was expected. Please change the shape of y to (n_samples,), for example using ravel().\n",
      "  estimator.fit(X_train, y_train, **fit_params)\n",
      "/Applications/Utilities/anaconda3/lib/python3.8/site-packages/xgboost/sklearn.py:888: UserWarning: The use of label encoder in XGBClassifier is deprecated and will be removed in a future release. To remove this warning, do the following: 1) Pass option use_label_encoder=False when constructing XGBClassifier object; and 2) Encode your labels (y) as integers starting with 0, i.e. 0, 1, 2, ..., [num_class - 1].\n",
      "  warnings.warn(label_encoder_deprecation_msg, UserWarning)\n",
      "/Applications/Utilities/anaconda3/lib/python3.8/site-packages/sklearn/utils/validation.py:73: DataConversionWarning: A column-vector y was passed when a 1d array was expected. Please change the shape of y to (n_samples, ), for example using ravel().\n",
      "  return f(**kwargs)\n",
      "/Applications/Utilities/anaconda3/lib/python3.8/site-packages/xgboost/sklearn.py:888: UserWarning: The use of label encoder in XGBClassifier is deprecated and will be removed in a future release. To remove this warning, do the following: 1) Pass option use_label_encoder=False when constructing XGBClassifier object; and 2) Encode your labels (y) as integers starting with 0, i.e. 0, 1, 2, ..., [num_class - 1].\n",
      "  warnings.warn(label_encoder_deprecation_msg, UserWarning)\n",
      "/Applications/Utilities/anaconda3/lib/python3.8/site-packages/sklearn/utils/validation.py:73: DataConversionWarning: A column-vector y was passed when a 1d array was expected. Please change the shape of y to (n_samples, ), for example using ravel().\n",
      "  return f(**kwargs)\n"
     ]
    },
    {
     "data": {
      "text/html": [
       "<div>\n",
       "<style scoped>\n",
       "    .dataframe tbody tr th:only-of-type {\n",
       "        vertical-align: middle;\n",
       "    }\n",
       "\n",
       "    .dataframe tbody tr th {\n",
       "        vertical-align: top;\n",
       "    }\n",
       "\n",
       "    .dataframe thead th {\n",
       "        text-align: right;\n",
       "    }\n",
       "</style>\n",
       "<table border=\"1\" class=\"dataframe\">\n",
       "  <thead>\n",
       "    <tr style=\"text-align: right;\">\n",
       "      <th></th>\n",
       "      <th>f1 score</th>\n",
       "      <th>accuracy_score</th>\n",
       "      <th>Notes</th>\n",
       "    </tr>\n",
       "  </thead>\n",
       "  <tbody>\n",
       "    <tr>\n",
       "      <th>0</th>\n",
       "      <td>0.825515</td>\n",
       "      <td>0.800606</td>\n",
       "      <td>Base model with standard feature engineering</td>\n",
       "    </tr>\n",
       "    <tr>\n",
       "      <th>1</th>\n",
       "      <td>0.824264</td>\n",
       "      <td>0.798608</td>\n",
       "      <td>Removed Date Recorded and Construction Year</td>\n",
       "    </tr>\n",
       "    <tr>\n",
       "      <th>2</th>\n",
       "      <td>0.824365</td>\n",
       "      <td>0.798855</td>\n",
       "      <td>Removed Construction Year</td>\n",
       "    </tr>\n",
       "    <tr>\n",
       "      <th>3</th>\n",
       "      <td>0.823611</td>\n",
       "      <td>0.797621</td>\n",
       "      <td>Removed basin column</td>\n",
       "    </tr>\n",
       "    <tr>\n",
       "      <th>4</th>\n",
       "      <td>0.822633</td>\n",
       "      <td>0.796813</td>\n",
       "      <td>Dropped first columns for OHE'd features</td>\n",
       "    </tr>\n",
       "    <tr>\n",
       "      <th>5</th>\n",
       "      <td>0.822372</td>\n",
       "      <td>0.796790</td>\n",
       "      <td>Dropped Age</td>\n",
       "    </tr>\n",
       "    <tr>\n",
       "      <th>6</th>\n",
       "      <td>0.792793</td>\n",
       "      <td>0.752952</td>\n",
       "      <td>Dropped 81 columns with Feature Permutation</td>\n",
       "    </tr>\n",
       "    <tr>\n",
       "      <th>7</th>\n",
       "      <td>0.823631</td>\n",
       "      <td>0.798563</td>\n",
       "      <td>Dropped all columns with a FP score under 0.001</td>\n",
       "    </tr>\n",
       "    <tr>\n",
       "      <th>8</th>\n",
       "      <td>0.807588</td>\n",
       "      <td>0.797711</td>\n",
       "      <td>SMOTE-ed in more dummy data</td>\n",
       "    </tr>\n",
       "  </tbody>\n",
       "</table>\n",
       "</div>"
      ],
      "text/plain": [
       "   f1 score  accuracy_score                                            Notes\n",
       "0  0.825515        0.800606     Base model with standard feature engineering\n",
       "1  0.824264        0.798608      Removed Date Recorded and Construction Year\n",
       "2  0.824365        0.798855                        Removed Construction Year\n",
       "3  0.823611        0.797621                             Removed basin column\n",
       "4  0.822633        0.796813         Dropped first columns for OHE'd features\n",
       "5  0.822372        0.796790                                      Dropped Age\n",
       "6  0.792793        0.752952      Dropped 81 columns with Feature Permutation\n",
       "7  0.823631        0.798563  Dropped all columns with a FP score under 0.001\n",
       "8  0.807588        0.797711                      SMOTE-ed in more dummy data"
      ]
     },
     "execution_count": 73,
     "metadata": {},
     "output_type": "execute_result"
    }
   ],
   "source": [
    "rf_tester.model_history(X=X_data_10, y_new=y_data_10, notes= 'SMOTE-ed in more dummy data')\n",
    "xgb_tester.model_history(X=X_data_10, y_new=y_data_10, notes= 'SMOTE-ed in more dummy data')"
   ]
  },
  {
   "cell_type": "code",
   "execution_count": 159,
   "metadata": {},
   "outputs": [],
   "source": [
    "xgb_tester.df = xgb_tester.df.rename(index={0: 'Dataset 1', 1:2, 2:3, 3:4, 4:5, 5:6, 6:7, 7:8, 8:9})"
   ]
  },
  {
   "cell_type": "code",
   "execution_count": 160,
   "metadata": {},
   "outputs": [
    {
     "data": {
      "text/html": [
       "<div>\n",
       "<style scoped>\n",
       "    .dataframe tbody tr th:only-of-type {\n",
       "        vertical-align: middle;\n",
       "    }\n",
       "\n",
       "    .dataframe tbody tr th {\n",
       "        vertical-align: top;\n",
       "    }\n",
       "\n",
       "    .dataframe thead th {\n",
       "        text-align: right;\n",
       "    }\n",
       "</style>\n",
       "<table border=\"1\" class=\"dataframe\">\n",
       "  <thead>\n",
       "    <tr style=\"text-align: right;\">\n",
       "      <th></th>\n",
       "      <th>f1 score</th>\n",
       "      <th>accuracy_score</th>\n",
       "      <th>Notes</th>\n",
       "    </tr>\n",
       "  </thead>\n",
       "  <tbody>\n",
       "    <tr>\n",
       "      <th>Dataset 1</th>\n",
       "      <td>0.825515</td>\n",
       "      <td>0.800606</td>\n",
       "      <td>Base model with standard feature engineering</td>\n",
       "    </tr>\n",
       "    <tr>\n",
       "      <th>2</th>\n",
       "      <td>0.824264</td>\n",
       "      <td>0.798608</td>\n",
       "      <td>Removed Date Recorded and Construction Year</td>\n",
       "    </tr>\n",
       "    <tr>\n",
       "      <th>3</th>\n",
       "      <td>0.824365</td>\n",
       "      <td>0.798855</td>\n",
       "      <td>Removed Construction Year</td>\n",
       "    </tr>\n",
       "    <tr>\n",
       "      <th>4</th>\n",
       "      <td>0.823611</td>\n",
       "      <td>0.797621</td>\n",
       "      <td>Removed basin column</td>\n",
       "    </tr>\n",
       "    <tr>\n",
       "      <th>5</th>\n",
       "      <td>0.822633</td>\n",
       "      <td>0.796813</td>\n",
       "      <td>Dropped first columns for OHE'd features</td>\n",
       "    </tr>\n",
       "    <tr>\n",
       "      <th>6</th>\n",
       "      <td>0.822372</td>\n",
       "      <td>0.796790</td>\n",
       "      <td>Dropped Age</td>\n",
       "    </tr>\n",
       "    <tr>\n",
       "      <th>7</th>\n",
       "      <td>0.792793</td>\n",
       "      <td>0.752952</td>\n",
       "      <td>Dropped 81 columns with Feature Permutation</td>\n",
       "    </tr>\n",
       "    <tr>\n",
       "      <th>8</th>\n",
       "      <td>0.823631</td>\n",
       "      <td>0.798563</td>\n",
       "      <td>Dropped all columns with a FP score under 0.001</td>\n",
       "    </tr>\n",
       "    <tr>\n",
       "      <th>9</th>\n",
       "      <td>0.807588</td>\n",
       "      <td>0.797711</td>\n",
       "      <td>SMOTE-ed in more dummy data</td>\n",
       "    </tr>\n",
       "  </tbody>\n",
       "</table>\n",
       "</div>"
      ],
      "text/plain": [
       "           f1 score  accuracy_score  \\\n",
       "Dataset 1  0.825515        0.800606   \n",
       "2          0.824264        0.798608   \n",
       "3          0.824365        0.798855   \n",
       "4          0.823611        0.797621   \n",
       "5          0.822633        0.796813   \n",
       "6          0.822372        0.796790   \n",
       "7          0.792793        0.752952   \n",
       "8          0.823631        0.798563   \n",
       "9          0.807588        0.797711   \n",
       "\n",
       "                                                     Notes  \n",
       "Dataset 1     Base model with standard feature engineering  \n",
       "2              Removed Date Recorded and Construction Year  \n",
       "3                                Removed Construction Year  \n",
       "4                                     Removed basin column  \n",
       "5                 Dropped first columns for OHE'd features  \n",
       "6                                              Dropped Age  \n",
       "7              Dropped 81 columns with Feature Permutation  \n",
       "8          Dropped all columns with a FP score under 0.001  \n",
       "9                              SMOTE-ed in more dummy data  "
      ]
     },
     "execution_count": 160,
     "metadata": {},
     "output_type": "execute_result"
    }
   ],
   "source": [
    "xgb_tester.df"
   ]
  },
  {
   "cell_type": "code",
   "execution_count": null,
   "metadata": {},
   "outputs": [],
   "source": []
  }
 ],
 "metadata": {
  "kernelspec": {
   "display_name": "Python 3",
   "language": "python",
   "name": "python3"
  },
  "language_info": {
   "codemirror_mode": {
    "name": "ipython",
    "version": 3
   },
   "file_extension": ".py",
   "mimetype": "text/x-python",
   "name": "python",
   "nbconvert_exporter": "python",
   "pygments_lexer": "ipython3",
   "version": "3.8.5"
  }
 },
 "nbformat": 4,
 "nbformat_minor": 4
}
